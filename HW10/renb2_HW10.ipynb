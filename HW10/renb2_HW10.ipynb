{
  "nbformat": 4,
  "nbformat_minor": 0,
  "metadata": {
    "colab": {
      "name": "renb2_HW10.ipynb",
      "version": "0.3.2",
      "provenance": [],
      "collapsed_sections": [],
      "toc_visible": true
    },
    "language_info": {
      "codemirror_mode": {
        "name": "ipython",
        "version": 3
      },
      "file_extension": ".py",
      "mimetype": "text/x-python",
      "name": "python",
      "nbconvert_exporter": "python",
      "pygments_lexer": "ipython3",
      "version": "3.6.7"
    },
    "kernelspec": {
      "display_name": "Python 3",
      "language": "python",
      "name": "python3"
    },
    "accelerator": "GPU"
  },
  "cells": [
    {
      "metadata": {
        "colab_type": "text",
        "id": "vUTgGUi4JEft"
      },
      "cell_type": "markdown",
      "source": [
        "# Homework 10 - CIFAR10 Image Classification with PyTorch"
      ]
    },
    {
      "metadata": {
        "colab_type": "text",
        "id": "T5Kx8gJBJEW_"
      },
      "cell_type": "markdown",
      "source": [
        "## About"
      ]
    },
    {
      "metadata": {
        "colab_type": "text",
        "id": "aRAalfd1GITX"
      },
      "cell_type": "markdown",
      "source": [
        "The goal of the homework is to train a convolutional neural network on the standard CIFAR10 image classfication dataset.\n",
        "\n",
        "When solving machine learning tasks using neural networks, one typically starts with a simple network architecture and then improves the network by adding new layers, retraining, adjusting parameters, retraining, etc.  We attempt to illustrate this process below with several architecture improvements.\n"
      ]
    },
    {
      "metadata": {
        "colab_type": "text",
        "id": "OCl5gakxJes-"
      },
      "cell_type": "markdown",
      "source": [
        "## Dev Environment\n",
        "### Working on Google Colab\n",
        "You may choose to work locally or on Google Colaboratory. You have access to free compute through this service.   Colab is recommended since it will be setup correctly and will have access to GPU resources.\n",
        "1. Visit https://colab.research.google.com/drive \n",
        "2. Navigate to the **`Upload`** tab, and upload your `HW10.ipynb`\n",
        "3. Now on the top right corner, under the `Comment` and `Share` options, you should see a `Connect` option. Once you are connected, you will have access to a VM with 12GB RAM, 50 GB disk space and a single GPU. The dropdown menu will allow you to connect to a local runtime as well.\n",
        "\n",
        "**Notes:** \n",
        "* **If you do not have a working setup for Python 3, this is your best bet. It will also save you from heavy installations like `tensorflow` if you don't want to deal with those.**\n",
        "* ***There is a downside*. You can only use this instance for a single 12-hour stretch, after which your data will be deleted, and you would have redownload all your datasets, any libraries not already on the VM, and regenerate your logs**.\n",
        "\n",
        "\n",
        "### Installing PyTorch and Dependencies\n",
        "\n",
        "The instructions for installing and setting up PyTorch can be found at https://pytorch.org/get-started/locally/. Make sure you follow the instructions for your machine. For any of the remaining libraries used in this assignment:\n",
        "* We have provided a `hw8_requirements.txt` file on the homework web page. \n",
        "* Download this file, and in the same directory you can run `pip3 install -r hw8_requirements.txt`\n",
        "​\n",
        "Check that PyTorch installed correctly by running the following:"
      ]
    },
    {
      "metadata": {
        "colab_type": "code",
        "id": "IaJ6BLrAJeCU",
        "colab": {}
      },
      "cell_type": "code",
      "source": [
        "import torch\n",
        "torch.rand(5, 3)"
      ],
      "execution_count": 0,
      "outputs": []
    },
    {
      "metadata": {
        "colab_type": "text",
        "id": "nEmmCk1IJiGn"
      },
      "cell_type": "markdown",
      "source": [
        "## Part 0 Imports and Basic Setup  (5 Points)"
      ]
    },
    {
      "metadata": {
        "colab_type": "text",
        "id": "Y3mTddKuXPBU"
      },
      "cell_type": "markdown",
      "source": [
        "First, import the required libraries as follows. The libraries we will use will be the same as those in HW8. "
      ]
    },
    {
      "metadata": {
        "colab_type": "code",
        "id": "UwtDsq3VbrNY",
        "colab": {}
      },
      "cell_type": "code",
      "source": [
        "import numpy as np\n",
        "import torch\n",
        "from torch import nn\n",
        "from torch import optim\n",
        "\n",
        "import matplotlib.pyplot as plt"
      ],
      "execution_count": 0,
      "outputs": []
    },
    {
      "metadata": {
        "colab_type": "text",
        "id": "QWKp_UGlWTyR"
      },
      "cell_type": "markdown",
      "source": [
        "**GPU Support**\n",
        "\n",
        "Training of large network can take a long time. PyTorch supports GPU with just a small amount of effort.\n",
        "\n",
        "When creating our networks, we will call \n",
        "`net.to(device)` to tell the network to train on the GPU, if one is available.  Note, if the network utilizes the GPU, it is important that any tensors we use with it (such as the data) also reside on the CPU.  Thus, a call like `images = images.to(device)` is necessary with any data we want to use with the GPU.\n",
        "\n",
        "Note: If you can't get access to a GPU, don't worry to much.  Since we use very small networks, the difference between CPU and GPU isn't large and in some cases GPU will actually be slower."
      ]
    },
    {
      "metadata": {
        "colab_type": "code",
        "id": "gbGGmnIXYca9",
        "outputId": "1cc340dd-358e-4419-d360-61bfcbcabc7a",
        "colab": {
          "base_uri": "https://localhost:8080/",
          "height": 34
        }
      },
      "cell_type": "code",
      "source": [
        "import torch.cuda as cuda\n",
        "\n",
        "# Use a GPU, i.e. cuda:0 device if it available.\n",
        "device = torch.device(\"cuda:0\" if cuda.is_available() else \"cpu\")\n",
        "print(device)"
      ],
      "execution_count": 0,
      "outputs": [
        {
          "output_type": "stream",
          "text": [
            "cuda:0\n"
          ],
          "name": "stdout"
        }
      ]
    },
    {
      "metadata": {
        "id": "07RjQbhF1tiK",
        "colab_type": "text"
      },
      "cell_type": "markdown",
      "source": [
        "### Training Code"
      ]
    },
    {
      "metadata": {
        "cellView": "form",
        "colab_type": "code",
        "id": "_DZm8ammPCbL",
        "colab": {}
      },
      "cell_type": "code",
      "source": [
        "import time\n",
        "\n",
        "class Flatten(nn.Module):\n",
        "  \"\"\"NN Module that flattens the incoming tensor.\"\"\"\n",
        "  def forward(self, input):\n",
        "    return input.view(input.size(0), -1)\n",
        "  \n",
        "def train(model, train_loader, test_loader, loss_func, opt, num_epochs=10):\n",
        "  all_training_loss = np.zeros((0,2))\n",
        "  all_training_acc = np.zeros((0,2))\n",
        "  all_test_loss = np.zeros((0,2))\n",
        "  all_test_acc = np.zeros((0,2))\n",
        "  \n",
        "  training_step = 0\n",
        "  training_loss, training_acc = 2.0, 0.0\n",
        "  print_every = 1000\n",
        "  \n",
        "  start = time.clock()\n",
        "  \n",
        "  for i in range(num_epochs):\n",
        "    epoch_start = time.clock() \n",
        "   \n",
        "    model.train()\n",
        "    for images, labels in train_loader:\n",
        "      images, labels = images.to(device), labels.to(device)\n",
        "      opt.zero_grad()\n",
        "\n",
        "      preds = model(images)\n",
        "      loss = loss_func(preds, labels)\n",
        "      loss.backward()\n",
        "      opt.step()\n",
        "      \n",
        "      training_loss += loss.item()\n",
        "      training_acc += (torch.argmax(preds, dim=1)==labels).float().mean()\n",
        "      \n",
        "      if training_step % print_every == 0:\n",
        "        training_loss /= print_every\n",
        "        training_acc /= print_every\n",
        "        \n",
        "        all_training_loss = np.concatenate((all_training_loss, [[training_step, training_loss]]))\n",
        "        all_training_acc = np.concatenate((all_training_acc, [[training_step, training_acc]]))\n",
        "        \n",
        "        print('  Epoch %d @ step %d: Train Loss: %3f, Train Accuracy: %3f' % (\n",
        "            i, training_step, training_loss, training_acc))\n",
        "        training_loss, training_acc = 0.0, 0.0\n",
        "        \n",
        "      training_step+=1\n",
        "\n",
        "    model.eval()\n",
        "    with torch.no_grad():\n",
        "      validation_loss, validation_acc = 0.0, 0.0\n",
        "      count = 0\n",
        "      for images, labels in test_loader:\n",
        "        images, labels = images.to(device), labels.to(device)\n",
        "        output = model(images)\n",
        "        validation_loss+=loss_func(output,labels)\n",
        "        validation_acc+=(torch.argmax(output, dim=1) == labels).float().mean()\n",
        "        count += 1\n",
        "      validation_loss/=count\n",
        "      validation_acc/=count\n",
        "      \n",
        "      all_test_loss = np.concatenate((all_test_loss, [[training_step, validation_loss]]))\n",
        "      all_test_acc = np.concatenate((all_test_acc, [[training_step, validation_acc]]))\n",
        "      \n",
        "      epoch_time = time.clock() - epoch_start\n",
        "      \n",
        "      print('Epoch %d Test Loss: %3f, Test Accuracy: %3f, time: %.1fs' % (\n",
        "          i, validation_loss, validation_acc, epoch_time))\n",
        "      \n",
        "  total_time = time.clock() - start\n",
        "  print('Final Test Loss: %3f, Test Accuracy: %3f, Total time: %.1fs' % (\n",
        "      validation_loss, validation_acc, total_time))\n",
        "\n",
        "  return {'loss': { 'train': all_training_loss, 'test': all_test_loss },\n",
        "          'accuracy': { 'train': all_training_acc, 'test': all_test_acc }}\n",
        "\n",
        "def plot_graphs(model_name, metrics):\n",
        "  for metric, values in metrics.items():\n",
        "    for name, v in values.items():\n",
        "      plt.plot(v[:,0], v[:,1], label=name)\n",
        "    plt.title(f'{metric} for {model_name}')\n",
        "    plt.legend()\n",
        "    plt.xlabel(\"Training Steps\")\n",
        "    plt.ylabel(metric)\n",
        "    plt.show()\n",
        "    "
      ],
      "execution_count": 0,
      "outputs": []
    },
    {
      "metadata": {
        "colab_type": "text",
        "id": "1RupXQbCaXb3"
      },
      "cell_type": "markdown",
      "source": [
        "Load the** CIFA-10** dataset and define the transformations. You may also want to print its structure, size, as well as sample a few images to get a sense of how to design the network. "
      ]
    },
    {
      "metadata": {
        "colab_type": "code",
        "id": "mIJmLIgaZ_d3",
        "colab": {}
      },
      "cell_type": "code",
      "source": [
        "!mkdir hw10_data"
      ],
      "execution_count": 0,
      "outputs": []
    },
    {
      "metadata": {
        "colab_type": "code",
        "id": "aDBbPmPPaQuG",
        "outputId": "82c1d662-a6fe-43db-c2f7-c5d77b9334a2",
        "colab": {
          "base_uri": "https://localhost:8080/",
          "height": 51
        }
      },
      "cell_type": "code",
      "source": [
        "# Download the data.\n",
        "from torchvision import datasets, transforms\n",
        "\n",
        "transformations = transforms.Compose(\n",
        "    [transforms.ToTensor(),\n",
        "     transforms.Normalize((0.5, 0.5, 0.5), (0.5, 0.5, 0.5))])\n",
        "train_set = datasets.CIFAR10(root='hw10_data/', download=True, transform=transformations)\n",
        "test_set = datasets.CIFAR10(root='hw10_data', download=True, train=False, transform=transformations)"
      ],
      "execution_count": 0,
      "outputs": [
        {
          "output_type": "stream",
          "text": [
            "Files already downloaded and verified\n",
            "Files already downloaded and verified\n"
          ],
          "name": "stdout"
        }
      ]
    },
    {
      "metadata": {
        "colab_type": "text",
        "id": "dfomsGyJiKz9"
      },
      "cell_type": "markdown",
      "source": [
        "Use `DataLoader` to create a loader for the training set and a loader for the testing set. You can use a `batch_size` of 8 to start, and change it if you wish."
      ]
    },
    {
      "metadata": {
        "colab_type": "code",
        "id": "Ioe04mbSiQiV",
        "colab": {}
      },
      "cell_type": "code",
      "source": [
        "from torch.utils.data import DataLoader\n",
        "\n",
        "batch_size = 8\n",
        "train_loader = torch.utils.data.DataLoader(train_set, batch_size, shuffle=True, num_workers=2)\n",
        "test_loader = torch.utils.data.DataLoader(test_set, batch_size, shuffle=True, num_workers=2)\n",
        "\n",
        "input_shape = np.array(train_set[0][0]).shape\n",
        "input_dim = input_shape[1]*input_shape[2]*input_shape[0]\n"
      ],
      "execution_count": 0,
      "outputs": []
    },
    {
      "metadata": {
        "colab_type": "code",
        "id": "fGoPdmuUOOiE",
        "colab": {}
      },
      "cell_type": "code",
      "source": [
        "training_epochs = 5"
      ],
      "execution_count": 0,
      "outputs": []
    },
    {
      "metadata": {
        "colab_type": "text",
        "id": "3T2-qkh8frqF"
      },
      "cell_type": "markdown",
      "source": [
        "## Part 1 CIFAR10 with Fully Connected Neural Netowrk (25 Points)\n",
        "\n",
        "As a warm-up, let's begin by training a two-layer fully connected neural network model on ** CIFAR-10** dataset. You may go back to check HW8 for some basics.\n",
        "\n",
        "We will give you this code to use as a baseline to compare against your CNN models."
      ]
    },
    {
      "metadata": {
        "colab_type": "code",
        "id": "Ck1CGpRycRFE",
        "outputId": "62e3fe1a-dc93-44fc-93df-f9f0db8e897b",
        "colab": {
          "base_uri": "https://localhost:8080/",
          "height": 663
        }
      },
      "cell_type": "code",
      "source": [
        "class TwoLayerModel(nn.Module):\n",
        "  def __init__(self):\n",
        "    super(TwoLayerModel, self).__init__()\n",
        "    self.net = nn.Sequential(\n",
        "      Flatten(), \n",
        "      nn.Linear(input_dim, 64), \n",
        "      nn.ReLU(), \n",
        "      nn.Linear(64, 10))\n",
        "  def forward(self, x):\n",
        "    return self.net(x)\n",
        "\n",
        "model = TwoLayerModel().to(device)\n",
        "\n",
        "loss = nn.CrossEntropyLoss()\n",
        "optimizer = optim.RMSprop(model.parameters(), lr=0.001, weight_decay=0.01)\n",
        "\n",
        "# Training epoch should be about 15-20 sec each on GPU.\n",
        "metrics = train(model, train_loader, test_loader, loss, optimizer, training_epochs)"
      ],
      "execution_count": 0,
      "outputs": [
        {
          "output_type": "stream",
          "text": [
            "  Epoch 0 @ step 0: Train Loss: 0.004365, Train Accuracy: 0.000125\n",
            "  Epoch 0 @ step 1000: Train Loss: 1.956652, Train Accuracy: 0.330750\n",
            "  Epoch 0 @ step 2000: Train Loss: 1.817677, Train Accuracy: 0.353375\n",
            "  Epoch 0 @ step 3000: Train Loss: 1.780722, Train Accuracy: 0.360250\n",
            "  Epoch 0 @ step 4000: Train Loss: 1.770687, Train Accuracy: 0.371500\n",
            "  Epoch 0 @ step 5000: Train Loss: 1.759001, Train Accuracy: 0.379375\n",
            "  Epoch 0 @ step 6000: Train Loss: 1.763345, Train Accuracy: 0.370750\n",
            "Epoch 0 Test Loss: 1.737707, Test Accuracy: 0.378500, time: 18.0s\n",
            "  Epoch 1 @ step 7000: Train Loss: 1.749956, Train Accuracy: 0.366750\n",
            "  Epoch 1 @ step 8000: Train Loss: 1.730632, Train Accuracy: 0.390250\n",
            "  Epoch 1 @ step 9000: Train Loss: 1.752751, Train Accuracy: 0.376500\n",
            "  Epoch 1 @ step 10000: Train Loss: 1.730319, Train Accuracy: 0.379250\n",
            "  Epoch 1 @ step 11000: Train Loss: 1.753881, Train Accuracy: 0.382000\n",
            "  Epoch 1 @ step 12000: Train Loss: 1.739147, Train Accuracy: 0.376500\n",
            "Epoch 1 Test Loss: 1.782642, Test Accuracy: 0.364000, time: 17.4s\n",
            "  Epoch 2 @ step 13000: Train Loss: 1.741626, Train Accuracy: 0.379000\n",
            "  Epoch 2 @ step 14000: Train Loss: 1.729272, Train Accuracy: 0.390500\n",
            "  Epoch 2 @ step 15000: Train Loss: 1.718085, Train Accuracy: 0.390625\n",
            "  Epoch 2 @ step 16000: Train Loss: 1.729776, Train Accuracy: 0.384250\n",
            "  Epoch 2 @ step 17000: Train Loss: 1.736061, Train Accuracy: 0.380250\n",
            "  Epoch 2 @ step 18000: Train Loss: 1.736848, Train Accuracy: 0.379000\n",
            "Epoch 2 Test Loss: 1.742116, Test Accuracy: 0.370700, time: 17.4s\n",
            "  Epoch 3 @ step 19000: Train Loss: 1.721399, Train Accuracy: 0.381625\n",
            "  Epoch 3 @ step 20000: Train Loss: 1.737498, Train Accuracy: 0.384000\n",
            "  Epoch 3 @ step 21000: Train Loss: 1.739380, Train Accuracy: 0.385625\n",
            "  Epoch 3 @ step 22000: Train Loss: 1.756014, Train Accuracy: 0.368000\n",
            "  Epoch 3 @ step 23000: Train Loss: 1.726046, Train Accuracy: 0.384875\n",
            "  Epoch 3 @ step 24000: Train Loss: 1.746657, Train Accuracy: 0.377875\n",
            "Epoch 3 Test Loss: 1.714599, Test Accuracy: 0.395700, time: 18.2s\n",
            "  Epoch 4 @ step 25000: Train Loss: 1.715784, Train Accuracy: 0.384125\n",
            "  Epoch 4 @ step 26000: Train Loss: 1.720500, Train Accuracy: 0.384125\n",
            "  Epoch 4 @ step 27000: Train Loss: 1.732640, Train Accuracy: 0.379875\n",
            "  Epoch 4 @ step 28000: Train Loss: 1.718893, Train Accuracy: 0.387625\n",
            "  Epoch 4 @ step 29000: Train Loss: 1.714331, Train Accuracy: 0.391125\n",
            "  Epoch 4 @ step 30000: Train Loss: 1.727309, Train Accuracy: 0.385250\n",
            "  Epoch 4 @ step 31000: Train Loss: 1.741015, Train Accuracy: 0.384375\n",
            "Epoch 4 Test Loss: 1.708969, Test Accuracy: 0.384400, time: 18.0s\n",
            "Final Test Loss: 1.708969, Test Accuracy: 0.384400, Total time: 89.0s\n"
          ],
          "name": "stdout"
        }
      ]
    },
    {
      "metadata": {
        "colab_type": "text",
        "id": "qjbncuMnKpf7"
      },
      "cell_type": "markdown",
      "source": [
        "**Plot the model results**\n",
        "\n",
        "Normally we would want to use Tensorboard for looking at metrics.  However, if colab reset while we are working, we might lose our logs and therefore our metrics.  Let's just plot some graphs that will survive across colab instances."
      ]
    },
    {
      "metadata": {
        "colab_type": "code",
        "id": "CuVL9MJ_D92h",
        "outputId": "2d0d1da0-957c-4dbb-a763-48012a22bb67",
        "colab": {
          "base_uri": "https://localhost:8080/",
          "height": 573
        }
      },
      "cell_type": "code",
      "source": [
        "plot_graphs(\"TwoLayerModel\", metrics)"
      ],
      "execution_count": 0,
      "outputs": [
        {
          "output_type": "display_data",
          "data": {
            "image/png": "[encoded data removed]",
            "text/plain": [
              "<Figure size 432x288 with 1 Axes>"
            ]
          },
          "metadata": {
            "tags": []
          }
        },
        {
          "output_type": "display_data",
          "data": {
            "image/png": "[encoded data removed]",
            "text/plain": [
              "<Figure size 432x288 with 1 Axes>"
            ]
          },
          "metadata": {
            "tags": []
          }
        }
      ]
    },
    {
      "metadata": {
        "colab_type": "text",
        "id": "4_xi8bkkfsM7"
      },
      "cell_type": "markdown",
      "source": [
        "## Part 2 Convolutional Neural Network (CNN) (35 Points)\n",
        "\n",
        "Now, let's design a convolution neural netwrok!\n",
        "\n",
        "Build a simple CNN model, inserting 2 CNN layers in from of our 2 layer fully connect model from above:\n",
        "\n",
        "1. A convolution with\t3x3 filter, 16 output channels, stride = 1, padding=1\n",
        "2. A ReLU activation\n",
        "2. A Max-Pooling layer with 2x2 window\n",
        "3. A convolution,\t3x3 filter, 16 output channels, stride = 1, padding=1\n",
        "4. A ReLU activation\n",
        "4. Flatten layer\n",
        "5. Fully connected linear layer with output size 64\n",
        "6. ReLU\n",
        "7. Fully connected linear layer, with output size 10\n",
        "\n",
        "You will have to figure out the input sizes of the first fully connnected layer based on the previous layer sizes. Note that you also need to fill those in the report section (see report section in the notebook for details) "
      ]
    },
    {
      "metadata": {
        "colab_type": "code",
        "id": "tLXjjywngO7g",
        "outputId": "f30cf52d-02ce-4be1-b88c-0dfe986542d3",
        "colab": {
          "base_uri": "https://localhost:8080/",
          "height": 663
        }
      },
      "cell_type": "code",
      "source": [
        "class ConvModel(nn.Module):\n",
        "  # Your Code Here\n",
        "  def __init__(self):\n",
        "    super(ConvModel, self).__init__()\n",
        "    self.net = nn.Sequential(\n",
        "    torch.nn.Conv2d(3, 16, kernel_size=3, stride=1, padding=1),\n",
        "    torch.nn.ReLU(),\n",
        "    torch.nn.MaxPool2d(kernel_size=2),\n",
        "    torch.nn.Conv2d(16, 16, kernel_size=3, stride=1, padding=1),\n",
        "    torch.nn.ReLU(),\n",
        "    Flatten(),\n",
        "    torch.nn.Linear(4096, 64),\n",
        "    torch.nn.ReLU(),\n",
        "    torch.nn.Linear(64, 10)\n",
        "    )\n",
        "\n",
        "  def forward(self, x):\n",
        "    return self.net(x)\n",
        "          \n",
        "  \n",
        "model = ConvModel().to(device)\n",
        "\n",
        "loss = nn.CrossEntropyLoss()\n",
        "optimizer = optim.RMSprop(model.parameters(), lr=0.001, weight_decay=0.01)\n",
        "\n",
        "conv_metrics = train(model, train_loader, test_loader, loss, optimizer, training_epochs)"
      ],
      "execution_count": 31,
      "outputs": [
        {
          "output_type": "stream",
          "text": [
            "  Epoch 0 @ step 0: Train Loss: 0.004339, Train Accuracy: 0.000000\n",
            "  Epoch 0 @ step 1000: Train Loss: 1.795546, Train Accuracy: 0.347500\n",
            "  Epoch 0 @ step 2000: Train Loss: 1.544459, Train Accuracy: 0.441500\n",
            "  Epoch 0 @ step 3000: Train Loss: 1.474898, Train Accuracy: 0.460750\n",
            "  Epoch 0 @ step 4000: Train Loss: 1.450018, Train Accuracy: 0.472875\n",
            "  Epoch 0 @ step 5000: Train Loss: 1.416886, Train Accuracy: 0.487625\n",
            "  Epoch 0 @ step 6000: Train Loss: 1.417832, Train Accuracy: 0.479250\n",
            "Epoch 0 Test Loss: 1.352798, Test Accuracy: 0.503800, time: 25.4s\n",
            "  Epoch 1 @ step 7000: Train Loss: 1.383225, Train Accuracy: 0.499750\n",
            "  Epoch 1 @ step 8000: Train Loss: 1.376959, Train Accuracy: 0.504500\n",
            "  Epoch 1 @ step 9000: Train Loss: 1.362188, Train Accuracy: 0.508000\n",
            "  Epoch 1 @ step 10000: Train Loss: 1.344414, Train Accuracy: 0.518750\n",
            "  Epoch 1 @ step 11000: Train Loss: 1.330348, Train Accuracy: 0.515000\n",
            "  Epoch 1 @ step 12000: Train Loss: 1.341600, Train Accuracy: 0.515000\n",
            "Epoch 1 Test Loss: 1.335427, Test Accuracy: 0.504200, time: 24.8s\n",
            "  Epoch 2 @ step 13000: Train Loss: 1.319757, Train Accuracy: 0.529500\n",
            "  Epoch 2 @ step 14000: Train Loss: 1.315597, Train Accuracy: 0.525875\n",
            "  Epoch 2 @ step 15000: Train Loss: 1.318458, Train Accuracy: 0.530875\n",
            "  Epoch 2 @ step 16000: Train Loss: 1.305254, Train Accuracy: 0.530250\n",
            "  Epoch 2 @ step 17000: Train Loss: 1.297273, Train Accuracy: 0.538250\n",
            "  Epoch 2 @ step 18000: Train Loss: 1.299572, Train Accuracy: 0.530000\n",
            "Epoch 2 Test Loss: 1.268512, Test Accuracy: 0.548600, time: 24.8s\n",
            "  Epoch 3 @ step 19000: Train Loss: 1.291712, Train Accuracy: 0.531625\n",
            "  Epoch 3 @ step 20000: Train Loss: 1.259902, Train Accuracy: 0.552500\n",
            "  Epoch 3 @ step 21000: Train Loss: 1.276005, Train Accuracy: 0.544625\n",
            "  Epoch 3 @ step 22000: Train Loss: 1.274403, Train Accuracy: 0.543125\n",
            "  Epoch 3 @ step 23000: Train Loss: 1.305731, Train Accuracy: 0.532500\n",
            "  Epoch 3 @ step 24000: Train Loss: 1.276639, Train Accuracy: 0.535875\n",
            "Epoch 3 Test Loss: 1.231829, Test Accuracy: 0.570500, time: 25.2s\n",
            "  Epoch 4 @ step 25000: Train Loss: 1.279142, Train Accuracy: 0.540500\n",
            "  Epoch 4 @ step 26000: Train Loss: 1.275754, Train Accuracy: 0.541000\n",
            "  Epoch 4 @ step 27000: Train Loss: 1.259347, Train Accuracy: 0.547125\n",
            "  Epoch 4 @ step 28000: Train Loss: 1.269369, Train Accuracy: 0.541625\n",
            "  Epoch 4 @ step 29000: Train Loss: 1.257006, Train Accuracy: 0.550875\n",
            "  Epoch 4 @ step 30000: Train Loss: 1.260602, Train Accuracy: 0.550500\n",
            "  Epoch 4 @ step 31000: Train Loss: 1.254505, Train Accuracy: 0.548875\n",
            "Epoch 4 Test Loss: 1.239861, Test Accuracy: 0.557200, time: 26.2s\n",
            "Final Test Loss: 1.239861, Test Accuracy: 0.557200, Total time: 126.5s\n"
          ],
          "name": "stdout"
        }
      ]
    },
    {
      "metadata": {
        "colab_type": "code",
        "id": "8BGTJw-TPTfh",
        "colab": {
          "base_uri": "https://localhost:8080/",
          "height": 573
        },
        "outputId": "2a927d2d-2697-4084-d2fb-c2492b0e2de5"
      },
      "cell_type": "code",
      "source": [
        "plot_graphs(\"ConvModel\", conv_metrics)"
      ],
      "execution_count": 33,
      "outputs": [
        {
          "output_type": "display_data",
          "data": {
            "image/png": "[encoded data removed]",
            "text/plain": [
              "<Figure size 432x288 with 1 Axes>"
            ]
          },
          "metadata": {
            "tags": []
          }
        },
        {
          "output_type": "display_data",
          "data": {
            "image/png": "[encoded data removed]",
            "text/plain": [
              "<Figure size 432x288 with 1 Axes>"
            ]
          },
          "metadata": {
            "tags": []
          }
        }
      ]
    },
    {
      "metadata": {
        "colab_type": "text",
        "id": "oFAc6IORmzCJ"
      },
      "cell_type": "markdown",
      "source": [
        "Do you notice the improvement over the accuracy compared to that in Part 1?"
      ]
    },
    {
      "metadata": {
        "colab_type": "text",
        "id": "hXpJgsjhftDP"
      },
      "cell_type": "markdown",
      "source": [
        "## Part 3 Open Design Competition (35 Points + 10 bonus points)\n",
        "\n",
        "Try to beat the previous models by adding additional layers, changing parameters, etc.  You should add at least one layer.\n",
        "\n",
        "Possible changes include:\n",
        "*   Dropout\n",
        "*   Batch Normalization\n",
        "*   More layers\n",
        "*   Residual Connections (harder)\n",
        "*   Change layer size\n",
        "*   Pooling layers, stride\n",
        "*   Different optimizer\n",
        "*   Train for longer\n",
        "\n",
        "Once you have a model you think is great, evaluate it against our hidden test data (see hidden_loader above) and upload the results to the leader board on gradescope.  **The top 3 scorers will get a bonus 10 points.**\n",
        "\n",
        "You can steal model structures found on the internet if you want.  The only constraint is that **you must train the model from scratch**.\n"
      ]
    },
    {
      "metadata": {
        "colab_type": "code",
        "id": "QZFkuraiZOaT",
        "outputId": "6c9f58d2-8323-437e-d6ec-9bb846914584",
        "colab": {
          "base_uri": "https://localhost:8080/",
          "height": 1887
        }
      },
      "cell_type": "code",
      "source": [
        "# You Awesome Super Best model code here\n",
        "class CNN(nn.Module):\n",
        "    def __init__(self):\n",
        "        super(CNN, self).__init__()\n",
        "        self.conv_layer = nn.Sequential(\n",
        "            nn.Conv2d(3, 16, kernel_size=3, padding=1),\n",
        "            nn.BatchNorm2d(16),\n",
        "            nn.ReLU(inplace=True),\n",
        "            nn.MaxPool2d(2, 2),\n",
        "            nn.Conv2d(16, 32, kernel_size=3, padding=1),\n",
        "            nn.BatchNorm2d(32),\n",
        "            nn.ReLU(inplace=True),\n",
        "            nn.MaxPool2d(2, 2),\n",
        "            nn.Conv2d(32, 64, kernel_size=3, padding=1),\n",
        "            nn.BatchNorm2d(64),\n",
        "            nn.ReLU(inplace=True),\n",
        "            nn.MaxPool2d(2, 2)\n",
        "        )\n",
        "        \n",
        "        self.fc_layer = nn.Sequential(\n",
        "            nn.Dropout(p=0.1),\n",
        "            nn.Linear(1024, 512),\n",
        "            nn.ReLU(inplace=True),\n",
        "            nn.Linear(512, 10)\n",
        "        )\n",
        "\n",
        "\n",
        "    def forward(self, x):\n",
        "        \"\"\"Perform forward.\"\"\"\n",
        "        \n",
        "        # conv layer\n",
        "        x = self.conv_layer(x)\n",
        "        \n",
        "        # flatten\n",
        "        x = x.view(-1, 1024)\n",
        "        \n",
        "        # fc layer\n",
        "        x = self.fc_layer(x)\n",
        "\n",
        "        return x\n",
        "      \n",
        "model = CNN().to(device)\n",
        "\n",
        "loss = nn.CrossEntropyLoss()\n",
        "optimizer = optim.RMSprop(model.parameters(), lr=0.001, weight_decay=0.01)\n",
        "\n",
        "awesome_metrics = train(model, train_loader, test_loader, loss, optimizer, 15)"
      ],
      "execution_count": 86,
      "outputs": [
        {
          "output_type": "stream",
          "text": [
            "  Epoch 0 @ step 0: Train Loss: 0.004302, Train Accuracy: 0.000125\n",
            "  Epoch 0 @ step 1000: Train Loss: 1.799300, Train Accuracy: 0.339250\n",
            "  Epoch 0 @ step 2000: Train Loss: 1.509189, Train Accuracy: 0.453125\n",
            "  Epoch 0 @ step 3000: Train Loss: 1.405721, Train Accuracy: 0.489750\n",
            "  Epoch 0 @ step 4000: Train Loss: 1.338021, Train Accuracy: 0.517750\n",
            "  Epoch 0 @ step 5000: Train Loss: 1.293670, Train Accuracy: 0.534250\n",
            "  Epoch 0 @ step 6000: Train Loss: 1.284461, Train Accuracy: 0.535625\n",
            "Epoch 0 Test Loss: 1.185099, Test Accuracy: 0.583500, time: 36.5s\n",
            "  Epoch 1 @ step 7000: Train Loss: 1.252809, Train Accuracy: 0.548625\n",
            "  Epoch 1 @ step 8000: Train Loss: 1.202557, Train Accuracy: 0.569875\n",
            "  Epoch 1 @ step 9000: Train Loss: 1.196996, Train Accuracy: 0.572250\n",
            "  Epoch 1 @ step 10000: Train Loss: 1.179679, Train Accuracy: 0.579500\n",
            "  Epoch 1 @ step 11000: Train Loss: 1.200635, Train Accuracy: 0.570875\n",
            "  Epoch 1 @ step 12000: Train Loss: 1.180668, Train Accuracy: 0.579375\n",
            "Epoch 1 Test Loss: 1.186718, Test Accuracy: 0.581400, time: 35.8s\n",
            "  Epoch 2 @ step 13000: Train Loss: 1.165608, Train Accuracy: 0.586125\n",
            "  Epoch 2 @ step 14000: Train Loss: 1.144379, Train Accuracy: 0.592000\n",
            "  Epoch 2 @ step 15000: Train Loss: 1.154149, Train Accuracy: 0.597125\n",
            "  Epoch 2 @ step 16000: Train Loss: 1.150327, Train Accuracy: 0.600125\n",
            "  Epoch 2 @ step 17000: Train Loss: 1.132200, Train Accuracy: 0.603375\n",
            "  Epoch 2 @ step 18000: Train Loss: 1.111982, Train Accuracy: 0.604500\n",
            "Epoch 2 Test Loss: 1.074828, Test Accuracy: 0.619800, time: 36.8s\n",
            "  Epoch 3 @ step 19000: Train Loss: 1.088157, Train Accuracy: 0.615375\n",
            "  Epoch 3 @ step 20000: Train Loss: 1.102242, Train Accuracy: 0.615125\n",
            "  Epoch 3 @ step 21000: Train Loss: 1.112222, Train Accuracy: 0.611750\n",
            "  Epoch 3 @ step 22000: Train Loss: 1.102810, Train Accuracy: 0.610125\n",
            "  Epoch 3 @ step 23000: Train Loss: 1.089963, Train Accuracy: 0.612875\n",
            "  Epoch 3 @ step 24000: Train Loss: 1.103405, Train Accuracy: 0.612625\n",
            "Epoch 3 Test Loss: 1.052080, Test Accuracy: 0.635200, time: 35.6s\n",
            "  Epoch 4 @ step 25000: Train Loss: 1.093660, Train Accuracy: 0.618625\n",
            "  Epoch 4 @ step 26000: Train Loss: 1.082993, Train Accuracy: 0.614750\n",
            "  Epoch 4 @ step 27000: Train Loss: 1.081319, Train Accuracy: 0.622375\n",
            "  Epoch 4 @ step 28000: Train Loss: 1.068275, Train Accuracy: 0.628750\n",
            "  Epoch 4 @ step 29000: Train Loss: 1.077039, Train Accuracy: 0.613375\n",
            "  Epoch 4 @ step 30000: Train Loss: 1.086972, Train Accuracy: 0.619000\n",
            "  Epoch 4 @ step 31000: Train Loss: 1.100145, Train Accuracy: 0.613000\n",
            "Epoch 4 Test Loss: 1.033333, Test Accuracy: 0.636900, time: 37.6s\n",
            "  Epoch 5 @ step 32000: Train Loss: 1.064948, Train Accuracy: 0.626000\n",
            "  Epoch 5 @ step 33000: Train Loss: 1.072181, Train Accuracy: 0.623875\n",
            "  Epoch 5 @ step 34000: Train Loss: 1.067553, Train Accuracy: 0.618750\n",
            "  Epoch 5 @ step 35000: Train Loss: 1.071565, Train Accuracy: 0.622375\n",
            "  Epoch 5 @ step 36000: Train Loss: 1.083341, Train Accuracy: 0.620125\n",
            "  Epoch 5 @ step 37000: Train Loss: 1.056286, Train Accuracy: 0.628875\n",
            "Epoch 5 Test Loss: 1.072180, Test Accuracy: 0.624700, time: 36.6s\n",
            "  Epoch 6 @ step 38000: Train Loss: 1.061932, Train Accuracy: 0.627625\n",
            "  Epoch 6 @ step 39000: Train Loss: 1.057267, Train Accuracy: 0.626125\n",
            "  Epoch 6 @ step 40000: Train Loss: 1.053625, Train Accuracy: 0.636500\n",
            "  Epoch 6 @ step 41000: Train Loss: 1.050369, Train Accuracy: 0.633625\n",
            "  Epoch 6 @ step 42000: Train Loss: 1.063761, Train Accuracy: 0.631125\n",
            "  Epoch 6 @ step 43000: Train Loss: 1.055120, Train Accuracy: 0.634250\n",
            "Epoch 6 Test Loss: 1.118478, Test Accuracy: 0.613600, time: 35.6s\n",
            "  Epoch 7 @ step 44000: Train Loss: 1.066929, Train Accuracy: 0.620500\n",
            "  Epoch 7 @ step 45000: Train Loss: 1.041235, Train Accuracy: 0.639250\n",
            "  Epoch 7 @ step 46000: Train Loss: 1.038811, Train Accuracy: 0.641500\n",
            "  Epoch 7 @ step 47000: Train Loss: 1.059139, Train Accuracy: 0.632375\n",
            "  Epoch 7 @ step 48000: Train Loss: 1.049258, Train Accuracy: 0.629250\n",
            "  Epoch 7 @ step 49000: Train Loss: 1.046564, Train Accuracy: 0.629250\n",
            "Epoch 7 Test Loss: 1.079888, Test Accuracy: 0.634000, time: 37.2s\n",
            "  Epoch 8 @ step 50000: Train Loss: 1.048551, Train Accuracy: 0.629000\n",
            "  Epoch 8 @ step 51000: Train Loss: 1.031185, Train Accuracy: 0.638250\n",
            "  Epoch 8 @ step 52000: Train Loss: 1.049770, Train Accuracy: 0.635875\n",
            "  Epoch 8 @ step 53000: Train Loss: 1.026298, Train Accuracy: 0.644875\n",
            "  Epoch 8 @ step 54000: Train Loss: 1.039922, Train Accuracy: 0.634625\n",
            "  Epoch 8 @ step 55000: Train Loss: 1.034544, Train Accuracy: 0.637250\n",
            "  Epoch 8 @ step 56000: Train Loss: 1.066464, Train Accuracy: 0.628125\n",
            "Epoch 8 Test Loss: 1.013966, Test Accuracy: 0.652000, time: 35.3s\n",
            "  Epoch 9 @ step 57000: Train Loss: 1.019728, Train Accuracy: 0.644375\n",
            "  Epoch 9 @ step 58000: Train Loss: 1.022853, Train Accuracy: 0.640625\n",
            "  Epoch 9 @ step 59000: Train Loss: 1.038542, Train Accuracy: 0.640125\n",
            "  Epoch 9 @ step 60000: Train Loss: 1.047418, Train Accuracy: 0.640250\n",
            "  Epoch 9 @ step 61000: Train Loss: 1.039175, Train Accuracy: 0.641750\n",
            "  Epoch 9 @ step 62000: Train Loss: 1.044388, Train Accuracy: 0.637125\n",
            "Epoch 9 Test Loss: 1.037227, Test Accuracy: 0.642200, time: 36.3s\n",
            "  Epoch 10 @ step 63000: Train Loss: 1.053166, Train Accuracy: 0.630500\n",
            "  Epoch 10 @ step 64000: Train Loss: 1.022679, Train Accuracy: 0.647500\n",
            "  Epoch 10 @ step 65000: Train Loss: 1.003465, Train Accuracy: 0.653000\n",
            "  Epoch 10 @ step 66000: Train Loss: 1.026413, Train Accuracy: 0.638625\n",
            "  Epoch 10 @ step 67000: Train Loss: 1.057324, Train Accuracy: 0.632875\n",
            "  Epoch 10 @ step 68000: Train Loss: 1.033627, Train Accuracy: 0.636500\n",
            "Epoch 10 Test Loss: 0.986814, Test Accuracy: 0.661700, time: 35.9s\n",
            "  Epoch 11 @ step 69000: Train Loss: 1.013453, Train Accuracy: 0.652375\n",
            "  Epoch 11 @ step 70000: Train Loss: 1.038413, Train Accuracy: 0.631500\n",
            "  Epoch 11 @ step 71000: Train Loss: 1.026250, Train Accuracy: 0.643625\n",
            "  Epoch 11 @ step 72000: Train Loss: 1.027224, Train Accuracy: 0.642625\n",
            "  Epoch 11 @ step 73000: Train Loss: 1.018865, Train Accuracy: 0.641250\n",
            "  Epoch 11 @ step 74000: Train Loss: 1.025077, Train Accuracy: 0.636750\n",
            "Epoch 11 Test Loss: 1.036680, Test Accuracy: 0.641100, time: 37.2s\n",
            "  Epoch 12 @ step 75000: Train Loss: 1.025641, Train Accuracy: 0.640500\n",
            "  Epoch 12 @ step 76000: Train Loss: 1.009331, Train Accuracy: 0.648750\n",
            "  Epoch 12 @ step 77000: Train Loss: 1.026305, Train Accuracy: 0.637000\n",
            "  Epoch 12 @ step 78000: Train Loss: 1.010307, Train Accuracy: 0.652250\n",
            "  Epoch 12 @ step 79000: Train Loss: 1.048910, Train Accuracy: 0.636500\n",
            "  Epoch 12 @ step 80000: Train Loss: 1.027220, Train Accuracy: 0.647250\n",
            "  Epoch 12 @ step 81000: Train Loss: 1.036255, Train Accuracy: 0.635250\n",
            "Epoch 12 Test Loss: 0.971563, Test Accuracy: 0.665300, time: 35.8s\n",
            "  Epoch 13 @ step 82000: Train Loss: 1.025845, Train Accuracy: 0.638750\n",
            "  Epoch 13 @ step 83000: Train Loss: 1.027976, Train Accuracy: 0.642125\n",
            "  Epoch 13 @ step 84000: Train Loss: 1.018215, Train Accuracy: 0.640625\n",
            "  Epoch 13 @ step 85000: Train Loss: 1.013853, Train Accuracy: 0.645000\n",
            "  Epoch 13 @ step 86000: Train Loss: 1.020324, Train Accuracy: 0.642000\n",
            "  Epoch 13 @ step 87000: Train Loss: 1.033982, Train Accuracy: 0.641000\n",
            "Epoch 13 Test Loss: 0.958991, Test Accuracy: 0.672100, time: 36.3s\n",
            "  Epoch 14 @ step 88000: Train Loss: 1.021974, Train Accuracy: 0.646500\n",
            "  Epoch 14 @ step 89000: Train Loss: 1.017838, Train Accuracy: 0.644625\n",
            "  Epoch 14 @ step 90000: Train Loss: 1.033053, Train Accuracy: 0.634125\n",
            "  Epoch 14 @ step 91000: Train Loss: 1.028293, Train Accuracy: 0.640125\n",
            "  Epoch 14 @ step 92000: Train Loss: 1.021665, Train Accuracy: 0.635625\n",
            "  Epoch 14 @ step 93000: Train Loss: 1.020312, Train Accuracy: 0.649375\n",
            "Epoch 14 Test Loss: 0.977445, Test Accuracy: 0.663400, time: 36.8s\n",
            "Final Test Loss: 0.977445, Test Accuracy: 0.663400, Total time: 545.5s\n"
          ],
          "name": "stdout"
        }
      ]
    },
    {
      "metadata": {
        "colab_type": "text",
        "id": "xbx5REUdc-Xs"
      },
      "cell_type": "markdown",
      "source": [
        "**What changes did you make to improve your model?**"
      ]
    },
    {
      "metadata": {
        "colab_type": "code",
        "id": "uItu0w4fZTuG",
        "colab": {
          "base_uri": "https://localhost:8080/",
          "height": 573
        },
        "outputId": "47786a72-947d-4777-c207-75a092b09e44"
      },
      "cell_type": "code",
      "source": [
        "plot_graphs(\"AwesomeModel\", awesome_metrics)"
      ],
      "execution_count": 87,
      "outputs": [
        {
          "output_type": "display_data",
          "data": {
            "image/png": "[encoded data removed]",
            "text/plain": [
              "<Figure size 432x288 with 1 Axes>"
            ]
          },
          "metadata": {
            "tags": []
          }
        },
        {
          "output_type": "display_data",
          "data": {
            "image/png": "[encoded data removed]",
            "text/plain": [
              "<Figure size 432x288 with 1 Axes>"
            ]
          },
          "metadata": {
            "tags": []
          }
        }
      ]
    },
    {
      "metadata": {
        "colab_type": "text",
        "id": "rWlP2WsodgK0"
      },
      "cell_type": "markdown",
      "source": [
        "After you get a nice model, download the test_file.zip and unzip it to get test_file.pt. In colab, you can explore your files from the left side bar. You can also download the files to your machine from there."
      ]
    },
    {
      "metadata": {
        "colab_type": "code",
        "id": "Z6UZInUCdfQ1",
        "colab": {
          "base_uri": "https://localhost:8080/",
          "height": 323
        },
        "outputId": "fdaa5c58-a005-458d-ca64-deffe14b8ec1"
      },
      "cell_type": "code",
      "source": [
        "!wget http://courses.engr.illinois.edu/cs498aml/sp2019/homeworks/test_file.zip\n",
        "!unzip test_file.zip"
      ],
      "execution_count": 107,
      "outputs": [
        {
          "output_type": "stream",
          "text": [
            "--2019-04-28 23:09:00--  http://courses.engr.illinois.edu/cs498aml/sp2019/homeworks/test_file.zip\n",
            "Resolving courses.engr.illinois.edu (courses.engr.illinois.edu)... 130.126.151.9\n",
            "Connecting to courses.engr.illinois.edu (courses.engr.illinois.edu)|130.126.151.9|:80... connected.\n",
            "HTTP request sent, awaiting response... 301 Moved Permanently\n",
            "Location: https://courses.engr.illinois.edu/cs498aml/sp2019/homeworks/test_file.zip [following]\n",
            "--2019-04-28 23:09:00--  https://courses.engr.illinois.edu/cs498aml/sp2019/homeworks/test_file.zip\n",
            "Connecting to courses.engr.illinois.edu (courses.engr.illinois.edu)|130.126.151.9|:443... connected.\n",
            "HTTP request sent, awaiting response... 200 OK\n",
            "Length: 3841776 (3.7M) [application/x-zip-compressed]\n",
            "Saving to: ‘test_file.zip.1’\n",
            "\n",
            "test_file.zip.1     100%[===================>]   3.66M  14.1MB/s    in 0.3s    \n",
            "\n",
            "2019-04-28 23:09:01 (14.1 MB/s) - ‘test_file.zip.1’ saved [3841776/3841776]\n",
            "\n",
            "Archive:  test_file.zip\n",
            "replace test_file.pt? [y]es, [n]o, [A]ll, [N]one, [r]ename: y\n",
            "  inflating: test_file.pt            \n"
          ],
          "name": "stdout"
        }
      ]
    },
    {
      "metadata": {
        "colab_type": "text",
        "id": "7g5caFPreMLT"
      },
      "cell_type": "markdown",
      "source": [
        "Then use your model to predict the label of the test images. Fill the remaining code below, where x has two dimensions (batch_size x one image size). Remember to reshpe x accordingly before feeding it into your model. The submission.txt should contain one predicted label (0~9) each line. Submit your submission.txt to the competition in gradscope."
      ]
    },
    {
      "metadata": {
        "colab_type": "code",
        "id": "yNdYAH9XeLlb",
        "colab": {}
      },
      "cell_type": "code",
      "source": [
        "import torch.utils.data as Data\n",
        "\n",
        "test_file = 'test_file.pt'\n",
        "pred_file = 'submission.txt'\n",
        "\n",
        "f_pred = open(pred_file,'w') \n",
        "tensor = torch.load(test_file)\n",
        "torch_dataset = Data.TensorDataset(tensor)  \n",
        "test_loader = torch.utils.data.DataLoader(torch_dataset, batch_size, shuffle=False, num_workers=2)\n",
        "\n",
        "for ele in test_loader:\n",
        "    x = ele[0]\n",
        "    \n",
        "    # Fill your code here\n",
        "    x = x.to(device)\n",
        "    output = model(x.view(-1, 3, 32, 32))\n",
        "    _, preds = torch.max(output, 1)\n",
        "    for pred in preds:\n",
        "      f_pred.write(f\"{pred}\")\n",
        "      f_pred.write('\\n')\n",
        "    \n",
        "f_pred.close()"
      ],
      "execution_count": 0,
      "outputs": []
    },
    {
      "metadata": {
        "colab_type": "text",
        "id": "8-L6F0CMqc-A"
      },
      "cell_type": "markdown",
      "source": [
        "\n",
        "# Report\n",
        "\n",
        "## Part 0: Imports and Basic Setup (5 Points)\n",
        "Nothing to report for this part. You will be just scored for finishing the setup.\n",
        "\n",
        "## Part 1: Fully connected neural networks (25 Points)\n",
        "\n",
        "Test (on validation set) accuracy (5 Points):\n",
        "\n",
        "Test loss (5 Points):\n",
        "\n",
        "Training time (5 Points):\n",
        "\n",
        "\n",
        "Plots:\n",
        "\n",
        "- Plot a graph of accuracy on validation set vs training steps (5 Points)\n",
        "\n",
        "- Plot a graph of loss on validation set vs training steps (5 Points)\n",
        "\n",
        "\n",
        "## Part 2: Convolution Network (Basic) (35 Points)\n",
        "\n",
        "Tensor dimensions: A good way to debug your network for size mismatches is to print the dimension of output after every layers:\n",
        "\n",
        "(10 Points)\n",
        "\n",
        "Output dimension after 1st conv layer: \n",
        "\n",
        "Output dimension after 1st max pooling: \n",
        "\n",
        "Output dimension after 2nd conv layer: \n",
        "\n",
        "Output dimension after flatten layer:\n",
        "\n",
        "Output dimension after 1st fully connected layer:\n",
        "\n",
        "Output dimension after 2nd fully connected layer:\n",
        "\n",
        "\n",
        "Test (on validation set) Accuracy (5 Points):\n",
        "\n",
        "Test loss (5 Points):\n",
        "\n",
        "Training time (5 Points):\n",
        "\n",
        "\n",
        "Plots:\n",
        "\n",
        "- Plot a graph of accuracy on validation set vs training steps (5 Points)\n",
        "\n",
        "- Plot a graph of loss on validation set vs training steps (5 Points)\n",
        "\n",
        "\n",
        "\n",
        "## Part 3: Convolution Network (Add one or more  suggested changes) (35 Points)\n",
        "\n",
        "Describe the additional changes implemented, your intuition for as to why it works, you may also describe other approaches you experimented with (10 Points):\n",
        "\n",
        "\n",
        "Test (on validation set) Accuracy (5 Points):\n",
        "\n",
        "Test loss (5 Points):\n",
        "\n",
        "Training time (5 Points):\n",
        "\n",
        "\n",
        "Plots:\n",
        "\n",
        "- Plot a graph of accuracy on validation set vs training steps (5 Points)\n",
        "\n",
        "- Plot a graph of loss on validation set vs training steps (5 Points)\n",
        "\n",
        "10 bonus points will be awarded to top 3 scorers on leaderboard (in case of tie for 3rd position everyone tied for 3rd position will get the bonus)"
      ]
    },
    {
      "metadata": {
        "id": "cMpXJT3p1tjB",
        "colab_type": "code",
        "colab": {}
      },
      "cell_type": "code",
      "source": [
        ""
      ],
      "execution_count": 0,
      "outputs": []
    }
  ]
}