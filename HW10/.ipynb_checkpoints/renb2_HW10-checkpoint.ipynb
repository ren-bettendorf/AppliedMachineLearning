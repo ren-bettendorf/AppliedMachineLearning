{
 "cells": [
  {
   "cell_type": "markdown",
   "metadata": {
    "colab_type": "text",
    "id": "vUTgGUi4JEft"
   },
   "source": [
    "# Homework 10 - CIFAR10 Image Classification with PyTorch"
   ]
  },
  {
   "cell_type": "markdown",
   "metadata": {
    "colab_type": "text",
    "id": "T5Kx8gJBJEW_"
   },
   "source": [
    "## About"
   ]
  },
  {
   "cell_type": "markdown",
   "metadata": {
    "colab_type": "text",
    "id": "aRAalfd1GITX"
   },
   "source": [
    "The goal of the homework is to train a convolutional neural network on the standard CIFAR10 image classfication dataset.\n",
    "\n",
    "When solving machine learning tasks using neural networks, one typically starts with a simple network architecture and then improves the network by adding new layers, retraining, adjusting parameters, retraining, etc.  We attempt to illustrate this process below with several architecture improvements.\n"
   ]
  },
  {
   "cell_type": "markdown",
   "metadata": {
    "colab_type": "text",
    "id": "OCl5gakxJes-"
   },
   "source": [
    "## Dev Environment\n",
    "### Working on Google Colab\n",
    "You may choose to work locally or on Google Colaboratory. You have access to free compute through this service.   Colab is recommended since it will be setup correctly and will have access to GPU resources.\n",
    "1. Visit https://colab.research.google.com/drive \n",
    "2. Navigate to the **`Upload`** tab, and upload your `HW10.ipynb`\n",
    "3. Now on the top right corner, under the `Comment` and `Share` options, you should see a `Connect` option. Once you are connected, you will have access to a VM with 12GB RAM, 50 GB disk space and a single GPU. The dropdown menu will allow you to connect to a local runtime as well.\n",
    "\n",
    "**Notes:** \n",
    "* **If you do not have a working setup for Python 3, this is your best bet. It will also save you from heavy installations like `tensorflow` if you don't want to deal with those.**\n",
    "* ***There is a downside*. You can only use this instance for a single 12-hour stretch, after which your data will be deleted, and you would have redownload all your datasets, any libraries not already on the VM, and regenerate your logs**.\n",
    "\n",
    "\n",
    "### Installing PyTorch and Dependencies\n",
    "\n",
    "The instructions for installing and setting up PyTorch can be found at https://pytorch.org/get-started/locally/. Make sure you follow the instructions for your machine. For any of the remaining libraries used in this assignment:\n",
    "* We have provided a `hw8_requirements.txt` file on the homework web page. \n",
    "* Download this file, and in the same directory you can run `pip3 install -r hw8_requirements.txt`\n",
    "​\n",
    "Check that PyTorch installed correctly by running the following:"
   ]
  },
  {
   "cell_type": "code",
   "execution_count": 0,
   "metadata": {
    "colab": {},
    "colab_type": "code",
    "id": "IaJ6BLrAJeCU"
   },
   "outputs": [],
   "source": [
    "import torch\n",
    "torch.rand(5, 3)"
   ]
  },
  {
   "cell_type": "markdown",
   "metadata": {
    "colab_type": "text",
    "id": "nEmmCk1IJiGn"
   },
   "source": [
    "## Part 0 Imports and Basic Setup  (5 Points)"
   ]
  },
  {
   "cell_type": "markdown",
   "metadata": {
    "colab_type": "text",
    "id": "Y3mTddKuXPBU"
   },
   "source": [
    "First, import the required libraries as follows. The libraries we will use will be the same as those in HW8. "
   ]
  },
  {
   "cell_type": "code",
   "execution_count": 1,
   "metadata": {
    "colab": {},
    "colab_type": "code",
    "id": "UwtDsq3VbrNY"
   },
   "outputs": [],
   "source": [
    "import numpy as np\n",
    "import torch\n",
    "from torch import nn\n",
    "from torch import optim\n",
    "\n",
    "import matplotlib.pyplot as plt"
   ]
  },
  {
   "cell_type": "markdown",
   "metadata": {
    "colab_type": "text",
    "id": "QWKp_UGlWTyR"
   },
   "source": [
    "**GPU Support**\n",
    "\n",
    "Training of large network can take a long time. PyTorch supports GPU with just a small amount of effort.\n",
    "\n",
    "When creating our networks, we will call \n",
    "`net.to(device)` to tell the network to train on the GPU, if one is available.  Note, if the network utilizes the GPU, it is important that any tensors we use with it (such as the data) also reside on the CPU.  Thus, a call like `images = images.to(device)` is necessary with any data we want to use with the GPU.\n",
    "\n",
    "Note: If you can't get access to a GPU, don't worry to much.  Since we use very small networks, the difference between CPU and GPU isn't large and in some cases GPU will actually be slower."
   ]
  },
  {
   "cell_type": "code",
   "execution_count": 34,
   "metadata": {
    "colab": {},
    "colab_type": "code",
    "id": "gbGGmnIXYca9"
   },
   "outputs": [
    {
     "name": "stdout",
     "output_type": "stream",
     "text": [
      "cuda:0\n"
     ]
    }
   ],
   "source": [
    "import torch.cuda as cuda\n",
    "\n",
    "# Use a GPU, i.e. cuda:0 device if it available.\n",
    "device = torch.device(\"cuda:0\" if cuda.is_available() else \"cpu\")\n",
    "print(device)"
   ]
  },
  {
   "cell_type": "code",
   "execution_count": 41,
   "metadata": {
    "cellView": "form",
    "colab": {},
    "colab_type": "code",
    "id": "_DZm8ammPCbL"
   },
   "outputs": [],
   "source": [
    "import time\n",
    "\n",
    "class Flatten(nn.Module):\n",
    "  \"\"\"NN Module that flattens the incoming tensor.\"\"\"\n",
    "  def forward(self, input):\n",
    "    return input.view(input.size(0), -1)\n",
    "  \n",
    "def train(model, train_loader, test_loader, loss_func, opt, num_epochs=10):\n",
    "  all_training_loss = np.zeros((0,2))\n",
    "  all_training_acc = np.zeros((0,2))\n",
    "  all_test_loss = np.zeros((0,2))\n",
    "  all_test_acc = np.zeros((0,2))\n",
    "  \n",
    "  training_step = 0\n",
    "  training_loss, training_acc = 2.0, 0.0\n",
    "  print_every = 1000\n",
    "  \n",
    "  start = time.clock()\n",
    "  \n",
    "  for i in range(num_epochs):\n",
    "    epoch_start = time.clock() \n",
    "   \n",
    "    model.train()\n",
    "    for images, labels in train_loader:\n",
    "      images, labels = images, labels\n",
    "      opt.zero_grad()\n",
    "\n",
    "      preds = model(images)\n",
    "      loss = loss_func(preds, labels)\n",
    "      loss.backward()\n",
    "      opt.step()\n",
    "      \n",
    "      training_loss += loss.item()\n",
    "      training_acc += (torch.argmax(preds, dim=1)==labels).float().mean()\n",
    "      \n",
    "      if training_step % print_every == 0:\n",
    "        training_loss /= print_every\n",
    "        training_acc /= print_every\n",
    "        \n",
    "        all_training_loss = np.concatenate((all_training_loss, [[training_step, training_loss]]))\n",
    "        all_training_acc = np.concatenate((all_training_acc, [[training_step, training_acc]]))\n",
    "        \n",
    "        print('  Epoch %d @ step %d: Train Loss: %3f, Train Accuracy: %3f' % (\n",
    "            i, training_step, training_loss, training_acc))\n",
    "        training_loss, training_acc = 0.0, 0.0\n",
    "        \n",
    "      training_step+=1\n",
    "\n",
    "    model.eval()\n",
    "    with torch.no_grad():\n",
    "      validation_loss, validation_acc = 0.0, 0.0\n",
    "      count = 0\n",
    "      for images, labels in test_loader:\n",
    "        images, labels = images, labels\n",
    "        output = model(images)\n",
    "        validation_loss+=loss_func(output,labels)\n",
    "        validation_acc+=(torch.argmax(output, dim=1) == labels).float().mean()\n",
    "        count += 1\n",
    "      validation_loss/=count\n",
    "      validation_acc/=count\n",
    "      \n",
    "      all_test_loss = np.concatenate((all_test_loss, [[training_step, validation_loss]]))\n",
    "      all_test_acc = np.concatenate((all_test_acc, [[training_step, validation_acc]]))\n",
    "      \n",
    "      epoch_time = time.clock() - epoch_start\n",
    "      \n",
    "      print('Epoch %d Test Loss: %3f, Test Accuracy: %3f, time: %.1fs' % (\n",
    "          i, validation_loss, validation_acc, epoch_time))\n",
    "      \n",
    "  total_time = time.clock() - start\n",
    "  print('Final Test Loss: %3f, Test Accuracy: %3f, Total time: %.1fs' % (\n",
    "      validation_loss, validation_acc, total_time))\n",
    "\n",
    "  return {'loss': { 'train': all_training_loss, 'test': all_test_loss },\n",
    "          'accuracy': { 'train': all_training_acc, 'test': all_test_acc }}\n",
    "\n",
    "def plot_graphs(model_name, metrics):\n",
    "  for metric, values in metrics.items():\n",
    "    for name, v in values.items():\n",
    "      plt.plot(v[:,0], v[:,1], label=name)\n",
    "    plt.title(f'{metric} for {model_name}')\n",
    "    plt.legend()\n",
    "    plt.xlabel(\"Training Steps\")\n",
    "    plt.ylabel(metric)\n",
    "    plt.show()"
   ]
  },
  {
   "cell_type": "markdown",
   "metadata": {
    "colab_type": "text",
    "id": "1RupXQbCaXb3"
   },
   "source": [
    "Load the** CIFA-10** dataset and define the transformations. You may also want to print its structure, size, as well as sample a few images to get a sense of how to design the network. "
   ]
  },
  {
   "cell_type": "code",
   "execution_count": 25,
   "metadata": {
    "colab": {},
    "colab_type": "code",
    "id": "mIJmLIgaZ_d3"
   },
   "outputs": [
    {
     "name": "stderr",
     "output_type": "stream",
     "text": [
      "A subdirectory or file hw10_data already exists.\n"
     ]
    }
   ],
   "source": [
    "!mkdir hw10_data"
   ]
  },
  {
   "cell_type": "code",
   "execution_count": 26,
   "metadata": {
    "colab": {},
    "colab_type": "code",
    "id": "aDBbPmPPaQuG"
   },
   "outputs": [
    {
     "name": "stdout",
     "output_type": "stream",
     "text": [
      "Files already downloaded and verified\n",
      "Files already downloaded and verified\n"
     ]
    }
   ],
   "source": [
    "# Download the data.\n",
    "from torchvision import datasets, transforms\n",
    "\n",
    "transformations = transforms.Compose(\n",
    "    [transforms.ToTensor(),\n",
    "     transforms.Normalize((0.5, 0.5, 0.5), (0.5, 0.5, 0.5))])\n",
    "train_set = datasets.CIFAR10(root='hw10_data/', download=True, transform=transformations)\n",
    "test_set = datasets.CIFAR10(root='hw10_data', download=True, train=False, transform=transformations)"
   ]
  },
  {
   "cell_type": "markdown",
   "metadata": {
    "colab_type": "text",
    "id": "dfomsGyJiKz9"
   },
   "source": [
    "Use `DataLoader` to create a loader for the training set and a loader for the testing set. You can use a `batch_size` of 8 to start, and change it if you wish."
   ]
  },
  {
   "cell_type": "code",
   "execution_count": 42,
   "metadata": {
    "colab": {},
    "colab_type": "code",
    "id": "Ioe04mbSiQiV"
   },
   "outputs": [],
   "source": [
    "from torch.utils.data import DataLoader\n",
    "\n",
    "batch_size = 8\n",
    "train_loader = torch.utils.data.DataLoader(train_set, batch_size, shuffle=True, num_workers=2)\n",
    "test_loader = torch.utils.data.DataLoader(test_set, batch_size, shuffle=True, num_workers=2)\n",
    "\n",
    "input_shape = np.array(train_set[0][0]).shape\n",
    "input_dim = input_shape[1]*input_shape[2]*input_shape[0]\n"
   ]
  },
  {
   "cell_type": "code",
   "execution_count": 28,
   "metadata": {
    "colab": {},
    "colab_type": "code",
    "id": "fGoPdmuUOOiE"
   },
   "outputs": [],
   "source": [
    "training_epochs = 5"
   ]
  },
  {
   "cell_type": "markdown",
   "metadata": {
    "colab_type": "text",
    "id": "3T2-qkh8frqF"
   },
   "source": [
    "## Part 1 CIFAR10 with Fully Connected Neural Netowrk (25 Points)\n",
    "\n",
    "As a warm-up, let's begin by training a two-layer fully connected neural network model on ** CIFAR-10** dataset. You may go back to check HW8 for some basics.\n",
    "\n",
    "We will give you this code to use as a baseline to compare against your CNN models."
   ]
  },
  {
   "cell_type": "code",
   "execution_count": 43,
   "metadata": {
    "colab": {},
    "colab_type": "code",
    "id": "Ck1CGpRycRFE"
   },
   "outputs": [
    {
     "name": "stderr",
     "output_type": "stream",
     "text": [
      "c:\\users\\ren bettendorf\\appdata\\local\\programs\\python\\python37\\lib\\site-packages\\ipykernel_launcher.py:18: DeprecationWarning: time.clock has been deprecated in Python 3.3 and will be removed from Python 3.8: use time.perf_counter or time.process_time instead\n",
      "c:\\users\\ren bettendorf\\appdata\\local\\programs\\python\\python37\\lib\\site-packages\\ipykernel_launcher.py:21: DeprecationWarning: time.clock has been deprecated in Python 3.3 and will be removed from Python 3.8: use time.perf_counter or time.process_time instead\n"
     ]
    },
    {
     "name": "stdout",
     "output_type": "stream",
     "text": [
      "  Epoch 0 @ step 0: Train Loss: 0.004278, Train Accuracy: 0.000125\n",
      "  Epoch 0 @ step 1000: Train Loss: 1.938812, Train Accuracy: 0.324250\n",
      "  Epoch 0 @ step 2000: Train Loss: 1.807848, Train Accuracy: 0.354500\n",
      "  Epoch 0 @ step 3000: Train Loss: 1.772815, Train Accuracy: 0.363375\n",
      "  Epoch 0 @ step 4000: Train Loss: 1.771480, Train Accuracy: 0.365750\n",
      "  Epoch 0 @ step 5000: Train Loss: 1.754006, Train Accuracy: 0.372625\n",
      "  Epoch 0 @ step 6000: Train Loss: 1.759356, Train Accuracy: 0.378250\n"
     ]
    },
    {
     "name": "stderr",
     "output_type": "stream",
     "text": [
      "c:\\users\\ren bettendorf\\appdata\\local\\programs\\python\\python37\\lib\\site-packages\\ipykernel_launcher.py:65: DeprecationWarning: time.clock has been deprecated in Python 3.3 and will be removed from Python 3.8: use time.perf_counter or time.process_time instead\n"
     ]
    },
    {
     "name": "stdout",
     "output_type": "stream",
     "text": [
      "Epoch 0 Test Loss: 1.707643, Test Accuracy: 0.389100, time: 24.5s\n",
      "  Epoch 1 @ step 7000: Train Loss: 1.750821, Train Accuracy: 0.369875\n",
      "  Epoch 1 @ step 8000: Train Loss: 1.735130, Train Accuracy: 0.374750\n",
      "  Epoch 1 @ step 9000: Train Loss: 1.721267, Train Accuracy: 0.379125\n",
      "  Epoch 1 @ step 10000: Train Loss: 1.748462, Train Accuracy: 0.371750\n",
      "  Epoch 1 @ step 11000: Train Loss: 1.743434, Train Accuracy: 0.378125\n",
      "  Epoch 1 @ step 12000: Train Loss: 1.743888, Train Accuracy: 0.383250\n",
      "Epoch 1 Test Loss: 1.681057, Test Accuracy: 0.396500, time: 26.6s\n",
      "  Epoch 2 @ step 13000: Train Loss: 1.744720, Train Accuracy: 0.369500\n",
      "  Epoch 2 @ step 14000: Train Loss: 1.733538, Train Accuracy: 0.382125\n",
      "  Epoch 2 @ step 15000: Train Loss: 1.736761, Train Accuracy: 0.384375\n",
      "  Epoch 2 @ step 16000: Train Loss: 1.734981, Train Accuracy: 0.380750\n",
      "  Epoch 2 @ step 17000: Train Loss: 1.745404, Train Accuracy: 0.380750\n",
      "  Epoch 2 @ step 18000: Train Loss: 1.729124, Train Accuracy: 0.374125\n",
      "Epoch 2 Test Loss: 1.708124, Test Accuracy: 0.390500, time: 25.9s\n",
      "  Epoch 3 @ step 19000: Train Loss: 1.714849, Train Accuracy: 0.386875\n",
      "  Epoch 3 @ step 20000: Train Loss: 1.718715, Train Accuracy: 0.386750\n",
      "  Epoch 3 @ step 21000: Train Loss: 1.732084, Train Accuracy: 0.373625\n",
      "  Epoch 3 @ step 22000: Train Loss: 1.741320, Train Accuracy: 0.373625\n",
      "  Epoch 3 @ step 23000: Train Loss: 1.727111, Train Accuracy: 0.383875\n",
      "  Epoch 3 @ step 24000: Train Loss: 1.734352, Train Accuracy: 0.381375\n",
      "Epoch 3 Test Loss: 1.712391, Test Accuracy: 0.389300, time: 27.0s\n",
      "  Epoch 4 @ step 25000: Train Loss: 1.733910, Train Accuracy: 0.382625\n",
      "  Epoch 4 @ step 26000: Train Loss: 1.729227, Train Accuracy: 0.381625\n",
      "  Epoch 4 @ step 27000: Train Loss: 1.725336, Train Accuracy: 0.382125\n",
      "  Epoch 4 @ step 28000: Train Loss: 1.728631, Train Accuracy: 0.376250\n",
      "  Epoch 4 @ step 29000: Train Loss: 1.746821, Train Accuracy: 0.379500\n",
      "  Epoch 4 @ step 30000: Train Loss: 1.740398, Train Accuracy: 0.382625\n",
      "  Epoch 4 @ step 31000: Train Loss: 1.726116, Train Accuracy: 0.376250\n",
      "Epoch 4 Test Loss: 1.682727, Test Accuracy: 0.398400, time: 26.0s\n",
      "Final Test Loss: 1.682727, Test Accuracy: 0.398400, Total time: 130.0s\n"
     ]
    },
    {
     "name": "stderr",
     "output_type": "stream",
     "text": [
      "c:\\users\\ren bettendorf\\appdata\\local\\programs\\python\\python37\\lib\\site-packages\\ipykernel_launcher.py:70: DeprecationWarning: time.clock has been deprecated in Python 3.3 and will be removed from Python 3.8: use time.perf_counter or time.process_time instead\n"
     ]
    }
   ],
   "source": [
    "class TwoLayerModel(nn.Module):\n",
    "  def __init__(self):\n",
    "    super(TwoLayerModel, self).__init__()\n",
    "    self.net = nn.Sequential(\n",
    "      Flatten(), \n",
    "      nn.Linear(input_dim, 64), \n",
    "      nn.ReLU(), \n",
    "      nn.Linear(64, 10))\n",
    "    \n",
    "  def forward(self, x):\n",
    "    return self.net(x)\n",
    "\n",
    "model = TwoLayerModel()\n",
    "\n",
    "loss = nn.CrossEntropyLoss()\n",
    "optimizer = optim.RMSprop(model.parameters(), lr=0.001, weight_decay=0.01)\n",
    "\n",
    "# Training epoch should be about 15-20 sec each on GPU.\n",
    "metrics = train(model, train_loader, test_loader, loss, optimizer, training_epochs)"
   ]
  },
  {
   "cell_type": "markdown",
   "metadata": {
    "colab_type": "text",
    "id": "qjbncuMnKpf7"
   },
   "source": [
    "**Plot the model results**\n",
    "\n",
    "Normally we would want to use Tensorboard for looking at metrics.  However, if colab reset while we are working, we might lose our logs and therefore our metrics.  Let's just plot some graphs that will survive across colab instances."
   ]
  },
  {
   "cell_type": "code",
   "execution_count": 45,
   "metadata": {
    "colab": {},
    "colab_type": "code",
    "id": "CuVL9MJ_D92h"
   },
   "outputs": [
    {
     "data": {
      "image/png": "[encoded data removed]",
      "text/plain": [
       "<Figure size 432x288 with 1 Axes>"
      ]
     },
     "metadata": {
      "needs_background": "light"
     },
     "output_type": "display_data"
    },
    {
     "data": {
      "image/png": "[encoded data removed]",
      "text/plain": [
       "<Figure size 432x288 with 1 Axes>"
      ]
     },
     "metadata": {
      "needs_background": "light"
     },
     "output_type": "display_data"
    }
   ],
   "source": [
    "plot_graphs(\"TwoLayerModel\", metrics)"
   ]
  },
  {
   "cell_type": "markdown",
   "metadata": {
    "colab_type": "text",
    "id": "4_xi8bkkfsM7"
   },
   "source": [
    "## Part 2 Convolutional Neural Network (CNN) (35 Points)\n",
    "\n",
    "Now, let's design a convolution neural netwrok!\n",
    "\n",
    "Build a simple CNN model, inserting 2 CNN layers in from of our 2 layer fully connect model from above:\n",
    "\n",
    "1. A convolution with\t3x3 filter, 16 output channels, stride = 1, padding=1\n",
    "2. A ReLU activation\n",
    "2. A Max-Pooling layer with 2x2 window\n",
    "3. A convolution,\t3x3 filter, 16 output channels, stride = 1, padding=1\n",
    "4. A ReLU activation\n",
    "4. Flatten layer\n",
    "5. Fully connected linear layer with output size 64\n",
    "6. ReLU\n",
    "7. Fully connected linear layer, with output size 10\n",
    "\n",
    "You will have to figure out the input sizes of the first fully connnected layer based on the previous layer sizes. Note that you also need to fill those in the report section (see report section in the notebook for details) "
   ]
  },
  {
   "cell_type": "code",
   "execution_count": 46,
   "metadata": {
    "colab": {},
    "colab_type": "code",
    "id": "tLXjjywngO7g"
   },
   "outputs": [
    {
     "name": "stderr",
     "output_type": "stream",
     "text": [
      "c:\\users\\ren bettendorf\\appdata\\local\\programs\\python\\python37\\lib\\site-packages\\ipykernel_launcher.py:18: DeprecationWarning: time.clock has been deprecated in Python 3.3 and will be removed from Python 3.8: use time.perf_counter or time.process_time instead\n",
      "c:\\users\\ren bettendorf\\appdata\\local\\programs\\python\\python37\\lib\\site-packages\\ipykernel_launcher.py:21: DeprecationWarning: time.clock has been deprecated in Python 3.3 and will be removed from Python 3.8: use time.perf_counter or time.process_time instead\n"
     ]
    },
    {
     "ename": "RuntimeError",
     "evalue": "size mismatch, m1: [8 x 4096], m2: [3072 x 64] at c:\\a\\w\\1\\s\\windows\\pytorch\\aten\\src\\th\\generic/THTensorMath.cpp:940",
     "output_type": "error",
     "traceback": [
      "\u001b[1;31m---------------------------------------------------------------------------\u001b[0m",
      "\u001b[1;31mRuntimeError\u001b[0m                              Traceback (most recent call last)",
      "\u001b[1;32m<ipython-input-46-ae656e782421>\u001b[0m in \u001b[0;36m<module>\u001b[1;34m\u001b[0m\n\u001b[0;32m     23\u001b[0m \u001b[0moptimizer\u001b[0m \u001b[1;33m=\u001b[0m \u001b[0moptim\u001b[0m\u001b[1;33m.\u001b[0m\u001b[0mRMSprop\u001b[0m\u001b[1;33m(\u001b[0m\u001b[0mmodel\u001b[0m\u001b[1;33m.\u001b[0m\u001b[0mparameters\u001b[0m\u001b[1;33m(\u001b[0m\u001b[1;33m)\u001b[0m\u001b[1;33m,\u001b[0m \u001b[0mlr\u001b[0m\u001b[1;33m=\u001b[0m\u001b[1;36m0.001\u001b[0m\u001b[1;33m,\u001b[0m \u001b[0mweight_decay\u001b[0m\u001b[1;33m=\u001b[0m\u001b[1;36m0.01\u001b[0m\u001b[1;33m)\u001b[0m\u001b[1;33m\u001b[0m\u001b[1;33m\u001b[0m\u001b[0m\n\u001b[0;32m     24\u001b[0m \u001b[1;33m\u001b[0m\u001b[0m\n\u001b[1;32m---> 25\u001b[1;33m \u001b[0mmetrics\u001b[0m \u001b[1;33m=\u001b[0m \u001b[0mtrain\u001b[0m\u001b[1;33m(\u001b[0m\u001b[0mmodel\u001b[0m\u001b[1;33m,\u001b[0m \u001b[0mtrain_loader\u001b[0m\u001b[1;33m,\u001b[0m \u001b[0mtest_loader\u001b[0m\u001b[1;33m,\u001b[0m \u001b[0mloss\u001b[0m\u001b[1;33m,\u001b[0m \u001b[0moptimizer\u001b[0m\u001b[1;33m,\u001b[0m \u001b[0mtraining_epochs\u001b[0m\u001b[1;33m)\u001b[0m\u001b[1;33m\u001b[0m\u001b[1;33m\u001b[0m\u001b[0m\n\u001b[0m",
      "\u001b[1;32m<ipython-input-41-756b31f81c06>\u001b[0m in \u001b[0;36mtrain\u001b[1;34m(model, train_loader, test_loader, loss_func, opt, num_epochs)\u001b[0m\n\u001b[0;32m     26\u001b[0m       \u001b[0mopt\u001b[0m\u001b[1;33m.\u001b[0m\u001b[0mzero_grad\u001b[0m\u001b[1;33m(\u001b[0m\u001b[1;33m)\u001b[0m\u001b[1;33m\u001b[0m\u001b[1;33m\u001b[0m\u001b[0m\n\u001b[0;32m     27\u001b[0m \u001b[1;33m\u001b[0m\u001b[0m\n\u001b[1;32m---> 28\u001b[1;33m       \u001b[0mpreds\u001b[0m \u001b[1;33m=\u001b[0m \u001b[0mmodel\u001b[0m\u001b[1;33m(\u001b[0m\u001b[0mimages\u001b[0m\u001b[1;33m)\u001b[0m\u001b[1;33m\u001b[0m\u001b[1;33m\u001b[0m\u001b[0m\n\u001b[0m\u001b[0;32m     29\u001b[0m       \u001b[0mloss\u001b[0m \u001b[1;33m=\u001b[0m \u001b[0mloss_func\u001b[0m\u001b[1;33m(\u001b[0m\u001b[0mpreds\u001b[0m\u001b[1;33m,\u001b[0m \u001b[0mlabels\u001b[0m\u001b[1;33m)\u001b[0m\u001b[1;33m\u001b[0m\u001b[1;33m\u001b[0m\u001b[0m\n\u001b[0;32m     30\u001b[0m       \u001b[0mloss\u001b[0m\u001b[1;33m.\u001b[0m\u001b[0mbackward\u001b[0m\u001b[1;33m(\u001b[0m\u001b[1;33m)\u001b[0m\u001b[1;33m\u001b[0m\u001b[1;33m\u001b[0m\u001b[0m\n",
      "\u001b[1;32mc:\\users\\ren bettendorf\\appdata\\local\\programs\\python\\python37\\lib\\site-packages\\torch\\nn\\modules\\module.py\u001b[0m in \u001b[0;36m__call__\u001b[1;34m(self, *input, **kwargs)\u001b[0m\n\u001b[0;32m    487\u001b[0m             \u001b[0mresult\u001b[0m \u001b[1;33m=\u001b[0m \u001b[0mself\u001b[0m\u001b[1;33m.\u001b[0m\u001b[0m_slow_forward\u001b[0m\u001b[1;33m(\u001b[0m\u001b[1;33m*\u001b[0m\u001b[0minput\u001b[0m\u001b[1;33m,\u001b[0m \u001b[1;33m**\u001b[0m\u001b[0mkwargs\u001b[0m\u001b[1;33m)\u001b[0m\u001b[1;33m\u001b[0m\u001b[1;33m\u001b[0m\u001b[0m\n\u001b[0;32m    488\u001b[0m         \u001b[1;32melse\u001b[0m\u001b[1;33m:\u001b[0m\u001b[1;33m\u001b[0m\u001b[1;33m\u001b[0m\u001b[0m\n\u001b[1;32m--> 489\u001b[1;33m             \u001b[0mresult\u001b[0m \u001b[1;33m=\u001b[0m \u001b[0mself\u001b[0m\u001b[1;33m.\u001b[0m\u001b[0mforward\u001b[0m\u001b[1;33m(\u001b[0m\u001b[1;33m*\u001b[0m\u001b[0minput\u001b[0m\u001b[1;33m,\u001b[0m \u001b[1;33m**\u001b[0m\u001b[0mkwargs\u001b[0m\u001b[1;33m)\u001b[0m\u001b[1;33m\u001b[0m\u001b[1;33m\u001b[0m\u001b[0m\n\u001b[0m\u001b[0;32m    490\u001b[0m         \u001b[1;32mfor\u001b[0m \u001b[0mhook\u001b[0m \u001b[1;32min\u001b[0m \u001b[0mself\u001b[0m\u001b[1;33m.\u001b[0m\u001b[0m_forward_hooks\u001b[0m\u001b[1;33m.\u001b[0m\u001b[0mvalues\u001b[0m\u001b[1;33m(\u001b[0m\u001b[1;33m)\u001b[0m\u001b[1;33m:\u001b[0m\u001b[1;33m\u001b[0m\u001b[1;33m\u001b[0m\u001b[0m\n\u001b[0;32m    491\u001b[0m             \u001b[0mhook_result\u001b[0m \u001b[1;33m=\u001b[0m \u001b[0mhook\u001b[0m\u001b[1;33m(\u001b[0m\u001b[0mself\u001b[0m\u001b[1;33m,\u001b[0m \u001b[0minput\u001b[0m\u001b[1;33m,\u001b[0m \u001b[0mresult\u001b[0m\u001b[1;33m)\u001b[0m\u001b[1;33m\u001b[0m\u001b[1;33m\u001b[0m\u001b[0m\n",
      "\u001b[1;32m<ipython-input-46-ae656e782421>\u001b[0m in \u001b[0;36mforward\u001b[1;34m(self, x)\u001b[0m\n\u001b[0;32m     16\u001b[0m \u001b[1;33m\u001b[0m\u001b[0m\n\u001b[0;32m     17\u001b[0m   \u001b[1;32mdef\u001b[0m \u001b[0mforward\u001b[0m\u001b[1;33m(\u001b[0m\u001b[0mself\u001b[0m\u001b[1;33m,\u001b[0m \u001b[0mx\u001b[0m\u001b[1;33m)\u001b[0m\u001b[1;33m:\u001b[0m\u001b[1;33m\u001b[0m\u001b[1;33m\u001b[0m\u001b[0m\n\u001b[1;32m---> 18\u001b[1;33m     \u001b[1;32mreturn\u001b[0m \u001b[0mself\u001b[0m\u001b[1;33m.\u001b[0m\u001b[0mnet\u001b[0m\u001b[1;33m(\u001b[0m\u001b[0mx\u001b[0m\u001b[1;33m)\u001b[0m\u001b[1;33m\u001b[0m\u001b[1;33m\u001b[0m\u001b[0m\n\u001b[0m\u001b[0;32m     19\u001b[0m \u001b[1;33m\u001b[0m\u001b[0m\n\u001b[0;32m     20\u001b[0m \u001b[0mmodel\u001b[0m \u001b[1;33m=\u001b[0m \u001b[0mConvModel\u001b[0m\u001b[1;33m(\u001b[0m\u001b[1;33m)\u001b[0m\u001b[1;33m\u001b[0m\u001b[1;33m\u001b[0m\u001b[0m\n",
      "\u001b[1;32mc:\\users\\ren bettendorf\\appdata\\local\\programs\\python\\python37\\lib\\site-packages\\torch\\nn\\modules\\module.py\u001b[0m in \u001b[0;36m__call__\u001b[1;34m(self, *input, **kwargs)\u001b[0m\n\u001b[0;32m    487\u001b[0m             \u001b[0mresult\u001b[0m \u001b[1;33m=\u001b[0m \u001b[0mself\u001b[0m\u001b[1;33m.\u001b[0m\u001b[0m_slow_forward\u001b[0m\u001b[1;33m(\u001b[0m\u001b[1;33m*\u001b[0m\u001b[0minput\u001b[0m\u001b[1;33m,\u001b[0m \u001b[1;33m**\u001b[0m\u001b[0mkwargs\u001b[0m\u001b[1;33m)\u001b[0m\u001b[1;33m\u001b[0m\u001b[1;33m\u001b[0m\u001b[0m\n\u001b[0;32m    488\u001b[0m         \u001b[1;32melse\u001b[0m\u001b[1;33m:\u001b[0m\u001b[1;33m\u001b[0m\u001b[1;33m\u001b[0m\u001b[0m\n\u001b[1;32m--> 489\u001b[1;33m             \u001b[0mresult\u001b[0m \u001b[1;33m=\u001b[0m \u001b[0mself\u001b[0m\u001b[1;33m.\u001b[0m\u001b[0mforward\u001b[0m\u001b[1;33m(\u001b[0m\u001b[1;33m*\u001b[0m\u001b[0minput\u001b[0m\u001b[1;33m,\u001b[0m \u001b[1;33m**\u001b[0m\u001b[0mkwargs\u001b[0m\u001b[1;33m)\u001b[0m\u001b[1;33m\u001b[0m\u001b[1;33m\u001b[0m\u001b[0m\n\u001b[0m\u001b[0;32m    490\u001b[0m         \u001b[1;32mfor\u001b[0m \u001b[0mhook\u001b[0m \u001b[1;32min\u001b[0m \u001b[0mself\u001b[0m\u001b[1;33m.\u001b[0m\u001b[0m_forward_hooks\u001b[0m\u001b[1;33m.\u001b[0m\u001b[0mvalues\u001b[0m\u001b[1;33m(\u001b[0m\u001b[1;33m)\u001b[0m\u001b[1;33m:\u001b[0m\u001b[1;33m\u001b[0m\u001b[1;33m\u001b[0m\u001b[0m\n\u001b[0;32m    491\u001b[0m             \u001b[0mhook_result\u001b[0m \u001b[1;33m=\u001b[0m \u001b[0mhook\u001b[0m\u001b[1;33m(\u001b[0m\u001b[0mself\u001b[0m\u001b[1;33m,\u001b[0m \u001b[0minput\u001b[0m\u001b[1;33m,\u001b[0m \u001b[0mresult\u001b[0m\u001b[1;33m)\u001b[0m\u001b[1;33m\u001b[0m\u001b[1;33m\u001b[0m\u001b[0m\n",
      "\u001b[1;32mc:\\users\\ren bettendorf\\appdata\\local\\programs\\python\\python37\\lib\\site-packages\\torch\\nn\\modules\\container.py\u001b[0m in \u001b[0;36mforward\u001b[1;34m(self, input)\u001b[0m\n\u001b[0;32m     90\u001b[0m     \u001b[1;32mdef\u001b[0m \u001b[0mforward\u001b[0m\u001b[1;33m(\u001b[0m\u001b[0mself\u001b[0m\u001b[1;33m,\u001b[0m \u001b[0minput\u001b[0m\u001b[1;33m)\u001b[0m\u001b[1;33m:\u001b[0m\u001b[1;33m\u001b[0m\u001b[1;33m\u001b[0m\u001b[0m\n\u001b[0;32m     91\u001b[0m         \u001b[1;32mfor\u001b[0m \u001b[0mmodule\u001b[0m \u001b[1;32min\u001b[0m \u001b[0mself\u001b[0m\u001b[1;33m.\u001b[0m\u001b[0m_modules\u001b[0m\u001b[1;33m.\u001b[0m\u001b[0mvalues\u001b[0m\u001b[1;33m(\u001b[0m\u001b[1;33m)\u001b[0m\u001b[1;33m:\u001b[0m\u001b[1;33m\u001b[0m\u001b[1;33m\u001b[0m\u001b[0m\n\u001b[1;32m---> 92\u001b[1;33m             \u001b[0minput\u001b[0m \u001b[1;33m=\u001b[0m \u001b[0mmodule\u001b[0m\u001b[1;33m(\u001b[0m\u001b[0minput\u001b[0m\u001b[1;33m)\u001b[0m\u001b[1;33m\u001b[0m\u001b[1;33m\u001b[0m\u001b[0m\n\u001b[0m\u001b[0;32m     93\u001b[0m         \u001b[1;32mreturn\u001b[0m \u001b[0minput\u001b[0m\u001b[1;33m\u001b[0m\u001b[1;33m\u001b[0m\u001b[0m\n\u001b[0;32m     94\u001b[0m \u001b[1;33m\u001b[0m\u001b[0m\n",
      "\u001b[1;32mc:\\users\\ren bettendorf\\appdata\\local\\programs\\python\\python37\\lib\\site-packages\\torch\\nn\\modules\\module.py\u001b[0m in \u001b[0;36m__call__\u001b[1;34m(self, *input, **kwargs)\u001b[0m\n\u001b[0;32m    487\u001b[0m             \u001b[0mresult\u001b[0m \u001b[1;33m=\u001b[0m \u001b[0mself\u001b[0m\u001b[1;33m.\u001b[0m\u001b[0m_slow_forward\u001b[0m\u001b[1;33m(\u001b[0m\u001b[1;33m*\u001b[0m\u001b[0minput\u001b[0m\u001b[1;33m,\u001b[0m \u001b[1;33m**\u001b[0m\u001b[0mkwargs\u001b[0m\u001b[1;33m)\u001b[0m\u001b[1;33m\u001b[0m\u001b[1;33m\u001b[0m\u001b[0m\n\u001b[0;32m    488\u001b[0m         \u001b[1;32melse\u001b[0m\u001b[1;33m:\u001b[0m\u001b[1;33m\u001b[0m\u001b[1;33m\u001b[0m\u001b[0m\n\u001b[1;32m--> 489\u001b[1;33m             \u001b[0mresult\u001b[0m \u001b[1;33m=\u001b[0m \u001b[0mself\u001b[0m\u001b[1;33m.\u001b[0m\u001b[0mforward\u001b[0m\u001b[1;33m(\u001b[0m\u001b[1;33m*\u001b[0m\u001b[0minput\u001b[0m\u001b[1;33m,\u001b[0m \u001b[1;33m**\u001b[0m\u001b[0mkwargs\u001b[0m\u001b[1;33m)\u001b[0m\u001b[1;33m\u001b[0m\u001b[1;33m\u001b[0m\u001b[0m\n\u001b[0m\u001b[0;32m    490\u001b[0m         \u001b[1;32mfor\u001b[0m \u001b[0mhook\u001b[0m \u001b[1;32min\u001b[0m \u001b[0mself\u001b[0m\u001b[1;33m.\u001b[0m\u001b[0m_forward_hooks\u001b[0m\u001b[1;33m.\u001b[0m\u001b[0mvalues\u001b[0m\u001b[1;33m(\u001b[0m\u001b[1;33m)\u001b[0m\u001b[1;33m:\u001b[0m\u001b[1;33m\u001b[0m\u001b[1;33m\u001b[0m\u001b[0m\n\u001b[0;32m    491\u001b[0m             \u001b[0mhook_result\u001b[0m \u001b[1;33m=\u001b[0m \u001b[0mhook\u001b[0m\u001b[1;33m(\u001b[0m\u001b[0mself\u001b[0m\u001b[1;33m,\u001b[0m \u001b[0minput\u001b[0m\u001b[1;33m,\u001b[0m \u001b[0mresult\u001b[0m\u001b[1;33m)\u001b[0m\u001b[1;33m\u001b[0m\u001b[1;33m\u001b[0m\u001b[0m\n",
      "\u001b[1;32mc:\\users\\ren bettendorf\\appdata\\local\\programs\\python\\python37\\lib\\site-packages\\torch\\nn\\modules\\linear.py\u001b[0m in \u001b[0;36mforward\u001b[1;34m(self, input)\u001b[0m\n\u001b[0;32m     65\u001b[0m     \u001b[1;33m@\u001b[0m\u001b[0mweak_script_method\u001b[0m\u001b[1;33m\u001b[0m\u001b[1;33m\u001b[0m\u001b[0m\n\u001b[0;32m     66\u001b[0m     \u001b[1;32mdef\u001b[0m \u001b[0mforward\u001b[0m\u001b[1;33m(\u001b[0m\u001b[0mself\u001b[0m\u001b[1;33m,\u001b[0m \u001b[0minput\u001b[0m\u001b[1;33m)\u001b[0m\u001b[1;33m:\u001b[0m\u001b[1;33m\u001b[0m\u001b[1;33m\u001b[0m\u001b[0m\n\u001b[1;32m---> 67\u001b[1;33m         \u001b[1;32mreturn\u001b[0m \u001b[0mF\u001b[0m\u001b[1;33m.\u001b[0m\u001b[0mlinear\u001b[0m\u001b[1;33m(\u001b[0m\u001b[0minput\u001b[0m\u001b[1;33m,\u001b[0m \u001b[0mself\u001b[0m\u001b[1;33m.\u001b[0m\u001b[0mweight\u001b[0m\u001b[1;33m,\u001b[0m \u001b[0mself\u001b[0m\u001b[1;33m.\u001b[0m\u001b[0mbias\u001b[0m\u001b[1;33m)\u001b[0m\u001b[1;33m\u001b[0m\u001b[1;33m\u001b[0m\u001b[0m\n\u001b[0m\u001b[0;32m     68\u001b[0m \u001b[1;33m\u001b[0m\u001b[0m\n\u001b[0;32m     69\u001b[0m     \u001b[1;32mdef\u001b[0m \u001b[0mextra_repr\u001b[0m\u001b[1;33m(\u001b[0m\u001b[0mself\u001b[0m\u001b[1;33m)\u001b[0m\u001b[1;33m:\u001b[0m\u001b[1;33m\u001b[0m\u001b[1;33m\u001b[0m\u001b[0m\n",
      "\u001b[1;32mc:\\users\\ren bettendorf\\appdata\\local\\programs\\python\\python37\\lib\\site-packages\\torch\\nn\\functional.py\u001b[0m in \u001b[0;36mlinear\u001b[1;34m(input, weight, bias)\u001b[0m\n\u001b[0;32m   1350\u001b[0m     \u001b[1;32mif\u001b[0m \u001b[0minput\u001b[0m\u001b[1;33m.\u001b[0m\u001b[0mdim\u001b[0m\u001b[1;33m(\u001b[0m\u001b[1;33m)\u001b[0m \u001b[1;33m==\u001b[0m \u001b[1;36m2\u001b[0m \u001b[1;32mand\u001b[0m \u001b[0mbias\u001b[0m \u001b[1;32mis\u001b[0m \u001b[1;32mnot\u001b[0m \u001b[1;32mNone\u001b[0m\u001b[1;33m:\u001b[0m\u001b[1;33m\u001b[0m\u001b[1;33m\u001b[0m\u001b[0m\n\u001b[0;32m   1351\u001b[0m         \u001b[1;31m# fused op is marginally faster\u001b[0m\u001b[1;33m\u001b[0m\u001b[1;33m\u001b[0m\u001b[1;33m\u001b[0m\u001b[0m\n\u001b[1;32m-> 1352\u001b[1;33m         \u001b[0mret\u001b[0m \u001b[1;33m=\u001b[0m \u001b[0mtorch\u001b[0m\u001b[1;33m.\u001b[0m\u001b[0maddmm\u001b[0m\u001b[1;33m(\u001b[0m\u001b[0mtorch\u001b[0m\u001b[1;33m.\u001b[0m\u001b[0mjit\u001b[0m\u001b[1;33m.\u001b[0m\u001b[0m_unwrap_optional\u001b[0m\u001b[1;33m(\u001b[0m\u001b[0mbias\u001b[0m\u001b[1;33m)\u001b[0m\u001b[1;33m,\u001b[0m \u001b[0minput\u001b[0m\u001b[1;33m,\u001b[0m \u001b[0mweight\u001b[0m\u001b[1;33m.\u001b[0m\u001b[0mt\u001b[0m\u001b[1;33m(\u001b[0m\u001b[1;33m)\u001b[0m\u001b[1;33m)\u001b[0m\u001b[1;33m\u001b[0m\u001b[1;33m\u001b[0m\u001b[0m\n\u001b[0m\u001b[0;32m   1353\u001b[0m     \u001b[1;32melse\u001b[0m\u001b[1;33m:\u001b[0m\u001b[1;33m\u001b[0m\u001b[1;33m\u001b[0m\u001b[0m\n\u001b[0;32m   1354\u001b[0m         \u001b[0moutput\u001b[0m \u001b[1;33m=\u001b[0m \u001b[0minput\u001b[0m\u001b[1;33m.\u001b[0m\u001b[0mmatmul\u001b[0m\u001b[1;33m(\u001b[0m\u001b[0mweight\u001b[0m\u001b[1;33m.\u001b[0m\u001b[0mt\u001b[0m\u001b[1;33m(\u001b[0m\u001b[1;33m)\u001b[0m\u001b[1;33m)\u001b[0m\u001b[1;33m\u001b[0m\u001b[1;33m\u001b[0m\u001b[0m\n",
      "\u001b[1;31mRuntimeError\u001b[0m: size mismatch, m1: [8 x 4096], m2: [3072 x 64] at c:\\a\\w\\1\\s\\windows\\pytorch\\aten\\src\\th\\generic/THTensorMath.cpp:940"
     ]
    }
   ],
   "source": [
    "class ConvModel(nn.Module):\n",
    "  # Your Code Here\n",
    "  def __init__(self):\n",
    "    super(ConvModel, self).__init__()\n",
    "    self.net = nn.Sequential(\n",
    "    torch.nn.Conv2d(3, 16, kernel_size=3, stride=1, padding=1),\n",
    "    torch.nn.ReLU(),\n",
    "    torch.nn.MaxPool2d(kernel_size=2),\n",
    "    torch.nn.Conv2d(16, 16, kernel_size=3, stride=1, padding=1),\n",
    "    torch.nn.ReLU(),\n",
    "    Flatten(),\n",
    "    torch.nn.Linear(4096, 64),\n",
    "    torch.nn.ReLU(),\n",
    "    torch.nn.Linear(64, 10)\n",
    "    )\n",
    "\n",
    "  def forward(self, x):\n",
    "    return self.net(x)\n",
    "          \n",
    "  \n",
    "model = ConvModel().to(device)\n",
    "\n",
    "loss = nn.CrossEntropyLoss()\n",
    "optimizer = optim.RMSprop(model.parameters(), lr=0.001, weight_decay=0.01)\n",
    "\n",
    "conv_metrics = train(model, train_loader, test_loader, loss, optimizer, training_epochs)"
   ]
  },
  {
   "cell_type": "code",
   "execution_count": 0,
   "metadata": {
    "colab": {},
    "colab_type": "code",
    "id": "8BGTJw-TPTfh"
   },
   "outputs": [],
   "source": [
    "plot_graphs(\"ConvModel\", conv_metrics)"
   ]
  },
  {
   "cell_type": "markdown",
   "metadata": {
    "colab_type": "text",
    "id": "oFAc6IORmzCJ"
   },
   "source": [
    "Do you notice the improvement over the accuracy compared to that in Part 1?"
   ]
  },
  {
   "cell_type": "markdown",
   "metadata": {
    "colab_type": "text",
    "id": "hXpJgsjhftDP"
   },
   "source": [
    "## Part 3 Open Design Competition (35 Points + 10 bonus points)\n",
    "\n",
    "Try to beat the previous models by adding additional layers, changing parameters, etc.  You should add at least one layer.\n",
    "\n",
    "Possible changes include:\n",
    "*   Dropout\n",
    "*   Batch Normalization\n",
    "*   More layers\n",
    "*   Residual Connections (harder)\n",
    "*   Change layer size\n",
    "*   Pooling layers, stride\n",
    "*   Different optimizer\n",
    "*   Train for longer\n",
    "\n",
    "Once you have a model you think is great, evaluate it against our hidden test data (see hidden_loader above) and upload the results to the leader board on gradescope.  **The top 3 scorers will get a bonus 10 points.**\n",
    "\n",
    "You can steal model structures found on the internet if you want.  The only constraint is that **you must train the model from scratch**.\n"
   ]
  },
  {
   "cell_type": "code",
   "execution_count": 0,
   "metadata": {
    "colab": {},
    "colab_type": "code",
    "id": "QZFkuraiZOaT"
   },
   "outputs": [],
   "source": [
    "# You Awesome Super Best model code here\n",
    "# You Awesome Super Best model code here\n",
    "class CNN(nn.Module):\n",
    "    \"\"\"CNN.\"\"\"\n",
    "\n",
    "    def __init__(self):\n",
    "        \"\"\"CNN Builder.\"\"\"\n",
    "        super(CNN, self).__init__()\n",
    "\n",
    "        self.conv_layer = nn.Sequential(\n",
    "\n",
    "            # Conv Layer block 1\n",
    "            nn.Conv2d(in_channels=3, out_channels=32, kernel_size=3, stride=1, padding=1),\n",
    "            nn.BatchNorm2d(32),\n",
    "            nn.ReLU(inplace=True),\n",
    "            nn.Conv2d(in_channels=32, out_channels=64, kernel_size=3, stride=1, padding=1),\n",
    "            nn.ReLU(inplace=True),\n",
    "            nn.MaxPool2d(kernel_size=2, stride=2),\n",
    "\n",
    "            # Conv Layer block 2\n",
    "            nn.Conv2d(in_channels=64, out_channels=128, kernel_size=3, stride=1, padding=1),\n",
    "            nn.BatchNorm2d(128),\n",
    "            nn.ReLU(inplace=True),\n",
    "            nn.Conv2d(in_channels=128, out_channels=128, kernel_size=3, stride=1, padding=1),\n",
    "            nn.ReLU(inplace=True),\n",
    "            nn.MaxPool2d(kernel_size=2, stride=2),\n",
    "            nn.Dropout2d(p=0.05),\n",
    "\n",
    "            # Conv Layer block 3\n",
    "            nn.Conv2d(in_channels=128, out_channels=256, kernel_size=3, stride=1, padding=1),\n",
    "            nn.BatchNorm2d(256),\n",
    "            nn.ReLU(inplace=True),\n",
    "            nn.Conv2d(in_channels=256, out_channels=256, kernel_size=3, stride=1, padding=1),\n",
    "            nn.ReLU(inplace=True),\n",
    "            nn.MaxPool2d(kernel_size=2, stride=2),\n",
    "        )\n",
    "\n",
    "\n",
    "        self.fc_layer = nn.Sequential(\n",
    "            nn.Dropout(p=0.1),\n",
    "            nn.Linear(4096, 1024),\n",
    "            nn.ReLU(inplace=True),\n",
    "            nn.Linear(1024, 512),\n",
    "            nn.ReLU(inplace=True),\n",
    "            nn.Dropout(p=0.1),\n",
    "            nn.Linear(512, 10)\n",
    "        )\n",
    "\n",
    "\n",
    "    def forward(self, x):\n",
    "        \"\"\"Perform forward.\"\"\"\n",
    "        \n",
    "        # conv layers\n",
    "        x = self.conv_layer(x)\n",
    "        \n",
    "        # flatten\n",
    "        x = x.view(x.size(0), -1)\n",
    "        \n",
    "        # fc layer\n",
    "        x = self.fc_layer(x)\n",
    "\n",
    "        return x\n",
    "      \n",
    "model = CNN().to(device)\n",
    "\n",
    "loss = nn.CrossEntropyLoss()\n",
    "optimizer = optim.RMSprop(model.parameters(), lr=0.001, weight_decay=0.01)\n",
    "\n",
    "awesome_metrics = train(model, train_loader, test_loader, loss, optimizer, training_epochs)"
   ]
  },
  {
   "cell_type": "markdown",
   "metadata": {
    "colab_type": "text",
    "id": "xbx5REUdc-Xs"
   },
   "source": [
    "**What changes did you make to improve your model?**"
   ]
  },
  {
   "cell_type": "code",
   "execution_count": 0,
   "metadata": {
    "colab": {},
    "colab_type": "code",
    "id": "uItu0w4fZTuG"
   },
   "outputs": [],
   "source": [
    "plot_graphs(\"AwesomeModel\", awesome_metrics)"
   ]
  },
  {
   "cell_type": "markdown",
   "metadata": {
    "colab_type": "text",
    "id": "rWlP2WsodgK0"
   },
   "source": [
    "After you get a nice model, download the test_file.zip and unzip it to get test_file.pt. In colab, you can explore your files from the left side bar. You can also download the files to your machine from there."
   ]
  },
  {
   "cell_type": "code",
   "execution_count": 0,
   "metadata": {
    "colab": {},
    "colab_type": "code",
    "id": "Z6UZInUCdfQ1"
   },
   "outputs": [],
   "source": [
    "!wget http://courses.engr.illinois.edu/cs498aml/sp2019/homeworks/test_file.zip\n",
    "!unzip test_file.zip"
   ]
  },
  {
   "cell_type": "markdown",
   "metadata": {
    "colab_type": "text",
    "id": "7g5caFPreMLT"
   },
   "source": [
    "Then use your model to predict the label of the test images. Fill the remaining code below, where x has two dimensions (batch_size x one image size). Remember to reshpe x accordingly before feeding it into your model. The submission.txt should contain one predicted label (0~9) each line. Submit your submission.txt to the competition in gradscope."
   ]
  },
  {
   "cell_type": "code",
   "execution_count": 0,
   "metadata": {
    "colab": {},
    "colab_type": "code",
    "id": "yNdYAH9XeLlb"
   },
   "outputs": [],
   "source": [
    "import torch.utils.data as Data\n",
    "\n",
    "test_file = 'test_file.pt'\n",
    "pred_file = 'submission.txt'\n",
    "\n",
    "f_pred = open(pred_file,'w') \n",
    "tensor = torch.load(test_file)\n",
    "torch_dataset = Data.TensorDataset(tensor)  \n",
    "test_loader = torch.utils.data.DataLoader(torch_dataset, batch_size, shuffle=False, num_workers=2)\n",
    "\n",
    "for ele in test_loader:\n",
    "    x = ele[0]\n",
    "    \n",
    "    # Fill your code here\n",
    "    \n",
    "    f_pred.write('\\n')\n",
    "    \n",
    "f_pred.close()"
   ]
  },
  {
   "cell_type": "markdown",
   "metadata": {
    "colab_type": "text",
    "id": "8-L6F0CMqc-A"
   },
   "source": [
    "\n",
    "# Report\n",
    "\n",
    "## Part 0: Imports and Basic Setup (5 Points)\n",
    "Nothing to report for this part. You will be just scored for finishing the setup.\n",
    "\n",
    "## Part 1: Fully connected neural networks (25 Points)\n",
    "\n",
    "Test (on validation set) accuracy (5 Points):\n",
    "\n",
    "Test loss (5 Points):\n",
    "\n",
    "Training time (5 Points):\n",
    "\n",
    "\n",
    "Plots:\n",
    "\n",
    "- Plot a graph of accuracy on validation set vs epoch (5 Points)\n",
    "\n",
    "- Plot a graph of loss on validation set vs epoch (5 Points)\n",
    "\n",
    "\n",
    "## Part 2: Convolution Network (Basic) (35 Points)\n",
    "\n",
    "Tensor dimensions: A good way to debug your network for size mismatches is to print the dimension of output after every layers:\n",
    "\n",
    "(10 Points)\n",
    "\n",
    "Output dimension after 1st conv layer: \n",
    "\n",
    "Output dimension after 1st max pooling: \n",
    "\n",
    "Output dimension after 2nd conv layer: \n",
    "\n",
    "Output dimension after 2nd max pooling:\n",
    "\n",
    "Output dimension after 1st fully connected layer:\n",
    "\n",
    "Output dimension after 2nd fully connected layer:\n",
    "\n",
    "Output dimension after 3rd fully connected layer:\n",
    "\n",
    "\n",
    "Test (on validation set) Accuracy (5 Points):\n",
    "\n",
    "Test loss (5 Points):\n",
    "\n",
    "Training time (5 Points):\n",
    "\n",
    "\n",
    "Plots:\n",
    "\n",
    "- Plot a graph of accuracy on validation set vs epoch (5 Points)\n",
    "\n",
    "- Plot a graph of loss on validation set vs epoch (5 Points)\n",
    "\n",
    "\n",
    "\n",
    "## Part 3: Convolution Network (Add one or more  suggested changes) (35 Points)\n",
    "\n",
    "Describe the additional changes implemented, your intuition for as to why it works, you may also describe other approaches you experimented with (10 Points):\n",
    "\n",
    "\n",
    "Test (on validation set) Accuracy (5 Points):\n",
    "\n",
    "Test loss (5 Points):\n",
    "\n",
    "Training time (5 Points):\n",
    "\n",
    "\n",
    "Plots:\n",
    "\n",
    "- Plot a graph of accuracy on validation set vs epoch (5 Points)\n",
    "\n",
    "- Plot a graph of loss on validation set vs epoch (5 Points)\n",
    "\n",
    "10 bonus points will be awarded to top 3 scorers on leaderboard (in case of tie for 3rd position everyone tied for 3rd position will get the bonus)"
   ]
  }
 ],
 "metadata": {
  "accelerator": "GPU",
  "colab": {
   "collapsed_sections": [],
   "name": "AML_HW10.ipynb",
   "provenance": [],
   "version": "0.3.2"
  },
  "kernelspec": {
   "display_name": "Python 3",
   "language": "python",
   "name": "python3"
  },
  "language_info": {
   "codemirror_mode": {
    "name": "ipython",
    "version": 3
   },
   "file_extension": ".py",
   "mimetype": "text/x-python",
   "name": "python",
   "nbconvert_exporter": "python",
   "pygments_lexer": "ipython3",
   "version": "3.7.3"
  }
 },
 "nbformat": 4,
 "nbformat_minor": 1
}
